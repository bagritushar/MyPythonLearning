{
 "cells": [
  {
   "cell_type": "markdown",
   "id": "9ce2495c-3c75-4d93-9707-c0d1f04c25c6",
   "metadata": {},
   "source": [
    "<font color=\"Blue\" size=\"6\">Python Learning 7th Week</font>"
   ]
  },
  {
   "cell_type": "markdown",
   "id": "3a5ef1ad-96be-4315-be84-7b37bb2a2b2c",
   "metadata": {},
   "source": [
    "# Week 7 – Artificial Intelligence (AI)"
   ]
  },
  {
   "cell_type": "markdown",
   "id": "c0bf30c8-ebe8-4aff-a3ce-817675678a54",
   "metadata": {},
   "source": [
    "# 1. Basics of Artificial Intelligence\n",
    "\n",
    "Artificial Intelligence (AI) is the branch of computer science that makes machines capable of performing tasks that usually require human intelligence like decision-making, problem-solving, learning, and understanding natural language."
   ]
  },
  {
   "cell_type": "markdown",
   "id": "4e7ce29d-39ba-48fe-9e16-b03fef3730a7",
   "metadata": {},
   "source": [
    " # Example:\n",
    "\n",
    "- Alexa, Siri, Google Assistant\n",
    "\n",
    "- Self-driving cars\n",
    "\n",
    "- Face recognition"
   ]
  },
  {
   "cell_type": "code",
   "execution_count": 4,
   "id": "72f0101f-edc9-48bf-bf2a-7b5d02afd776",
   "metadata": {},
   "outputs": [
    {
     "name": "stdout",
     "output_type": "stream",
     "text": [
      "Hi! How can I help you?\n",
      "I'm still learning!\n",
      "Goodbye!\n"
     ]
    }
   ],
   "source": [
    "# Simple Rule-Based AI Example\n",
    "def chatbot(user_input):\n",
    "    if \"hello\" in user_input.lower():\n",
    "        return \"Hi! How can I help you?\"\n",
    "    elif \"bye\" in user_input.lower():\n",
    "        return \"Goodbye!\"\n",
    "    else:\n",
    "        return \"I'm still learning!\"\n",
    "\n",
    "print(chatbot(\"Hello AI\"))\n",
    "print(chatbot(\"What is AI?\"))\n",
    "print(chatbot(\"bye\"))\n"
   ]
  },
  {
   "cell_type": "markdown",
   "id": "0efffca3-b64f-4200-b2c1-6b7a72f920ee",
   "metadata": {},
   "source": [
    "# 2. Difference: AI vs ML vs DL\n",
    "\n",
    "- AI (Artificial Intelligence): The overall field → making machines intelligent.\n",
    "\n",
    "- ML (Machine Learning): Subfield of AI → machines learn patterns from data without being explicitly programmed.\n",
    "\n",
    "- DL (Deep Learning): Subfield of ML → uses Artificial Neural Networks with many layers to automatically learn complex features."
   ]
  },
  {
   "cell_type": "markdown",
   "id": "678f52e0-b8a0-44ed-b1ba-64122d52d52c",
   "metadata": {},
   "source": [
    "# Example:\n",
    "\n",
    "- AI: Chess playing computer\n",
    "\n",
    "- ML: Predicting house prices from data\n",
    "\n",
    "- DL: Face recognition using deep neural networks "
   ]
  },
  {
   "cell_type": "markdown",
   "id": "2dd60223-b96f-4094-b2fc-69ef1f6a8cd0",
   "metadata": {},
   "source": [
    "# 2. Difference AI vs ML vs DL (Code Example)\n",
    "Machine Learning Example (ML inside AI)"
   ]
  },
  {
   "cell_type": "code",
   "execution_count": 6,
   "id": "daba04be-34c4-4ca5-a1f0-cfe163cadcad",
   "metadata": {},
   "outputs": [
    {
     "name": "stdout",
     "output_type": "stream",
     "text": [
      "[1]\n"
     ]
    }
   ],
   "source": [
    "# ML Example: Predict Pass/Fail based on Marks\n",
    "from sklearn.linear_model import LogisticRegression\n",
    "import numpy as np\n",
    "\n",
    "# Dataset (Marks vs Pass/Fail)\n",
    "X = np.array([[30], [40], [50], [60], [70], [80]])\n",
    "y = np.array([0, 0, 0, 1, 1, 1])   # 0 = Fail, 1 = Pass\n",
    "\n",
    "model = LogisticRegression()\n",
    "model.fit(X, y)\n",
    "\n",
    "print(model.predict([[55]]))   # Predict for 55 marks\n"
   ]
  },
  {
   "cell_type": "markdown",
   "id": "9b3118e6-d8cb-4e23-a00b-572f068fc66c",
   "metadata": {},
   "source": [
    "# Deep Learning Example (DL inside ML)"
   ]
  },
  {
   "cell_type": "code",
   "execution_count": 7,
   "id": "e3ba72dd-68b7-4e5d-b55d-a35d5f7f7d7d",
   "metadata": {},
   "outputs": [
    {
     "ename": "ModuleNotFoundError",
     "evalue": "No module named 'tensorflow'",
     "output_type": "error",
     "traceback": [
      "\u001b[1;31m---------------------------------------------------------------------------\u001b[0m",
      "\u001b[1;31mModuleNotFoundError\u001b[0m                       Traceback (most recent call last)",
      "Cell \u001b[1;32mIn[7], line 1\u001b[0m\n\u001b[1;32m----> 1\u001b[0m \u001b[38;5;28;01mfrom\u001b[39;00m\u001b[38;5;250m \u001b[39m\u001b[38;5;21;01mtensorflow\u001b[39;00m\u001b[38;5;21;01m.\u001b[39;00m\u001b[38;5;21;01mkeras\u001b[39;00m\u001b[38;5;21;01m.\u001b[39;00m\u001b[38;5;21;01mmodels\u001b[39;00m\u001b[38;5;250m \u001b[39m\u001b[38;5;28;01mimport\u001b[39;00m Sequential\n\u001b[0;32m      2\u001b[0m \u001b[38;5;28;01mfrom\u001b[39;00m\u001b[38;5;250m \u001b[39m\u001b[38;5;21;01mtensorflow\u001b[39;00m\u001b[38;5;21;01m.\u001b[39;00m\u001b[38;5;21;01mkeras\u001b[39;00m\u001b[38;5;21;01m.\u001b[39;00m\u001b[38;5;21;01mlayers\u001b[39;00m\u001b[38;5;250m \u001b[39m\u001b[38;5;28;01mimport\u001b[39;00m Dense\n\u001b[0;32m      3\u001b[0m \u001b[38;5;28;01mimport\u001b[39;00m\u001b[38;5;250m \u001b[39m\u001b[38;5;21;01mnumpy\u001b[39;00m\u001b[38;5;250m \u001b[39m\u001b[38;5;28;01mas\u001b[39;00m\u001b[38;5;250m \u001b[39m\u001b[38;5;21;01mnp\u001b[39;00m\n",
      "\u001b[1;31mModuleNotFoundError\u001b[0m: No module named 'tensorflow'"
     ]
    }
   ],
   "source": [
    "from tensorflow.keras.models import Sequential\n",
    "from tensorflow.keras.layers import Dense\n",
    "import numpy as np\n",
    "\n",
    "# Dataset (X = hours studied, y = pass/fail)\n",
    "X = np.array([[1],[2],[3],[4],[5],[6],[7],[8]])\n",
    "y = np.array([[0],[0],[0],[1],[1],[1],[1],[1]])\n",
    "\n",
    "# Simple Neural Network\n",
    "model = Sequential()\n",
    "model.add(Dense(8, input_dim=1, activation='relu'))\n",
    "model.add(Dense(1, activation='sigmoid'))\n",
    "\n",
    "model.compile(loss='binary_crossentropy', optimizer='adam', metrics=['accuracy'])\n",
    "model.fit(X, y, epochs=100, verbose=0)\n",
    "\n",
    "print(model.predict([[5.5]]))  # Predict for 5.5 hrs study\n"
   ]
  },
  {
   "cell_type": "code",
   "execution_count": 2,
   "id": "d8462204-f9f0-404f-935f-688e24b4d6d0",
   "metadata": {},
   "outputs": [
    {
     "name": "stdout",
     "output_type": "stream",
     "text": [
      "Requirement already satisfied: tensorflow in c:\\users\\dell\\anaconda3\\envs\\myenv\\lib\\site-packages (2.20.0)Note: you may need to restart the kernel to use updated packages.\n",
      "\n",
      "Requirement already satisfied: absl-py>=1.0.0 in c:\\users\\dell\\anaconda3\\envs\\myenv\\lib\\site-packages (from tensorflow) (2.3.1)\n",
      "Requirement already satisfied: astunparse>=1.6.0 in c:\\users\\dell\\anaconda3\\envs\\myenv\\lib\\site-packages (from tensorflow) (1.6.3)\n",
      "Requirement already satisfied: flatbuffers>=24.3.25 in c:\\users\\dell\\anaconda3\\envs\\myenv\\lib\\site-packages (from tensorflow) (25.2.10)\n",
      "Requirement already satisfied: gast!=0.5.0,!=0.5.1,!=0.5.2,>=0.2.1 in c:\\users\\dell\\anaconda3\\envs\\myenv\\lib\\site-packages (from tensorflow) (0.6.0)\n",
      "Requirement already satisfied: google_pasta>=0.1.1 in c:\\users\\dell\\anaconda3\\envs\\myenv\\lib\\site-packages (from tensorflow) (0.2.0)\n",
      "Requirement already satisfied: libclang>=13.0.0 in c:\\users\\dell\\anaconda3\\envs\\myenv\\lib\\site-packages (from tensorflow) (18.1.1)\n",
      "Requirement already satisfied: opt_einsum>=2.3.2 in c:\\users\\dell\\anaconda3\\envs\\myenv\\lib\\site-packages (from tensorflow) (3.4.0)\n",
      "Requirement already satisfied: packaging in c:\\users\\dell\\anaconda3\\envs\\myenv\\lib\\site-packages (from tensorflow) (24.2)\n",
      "Requirement already satisfied: protobuf>=5.28.0 in c:\\users\\dell\\anaconda3\\envs\\myenv\\lib\\site-packages (from tensorflow) (6.32.0)\n",
      "Requirement already satisfied: requests<3,>=2.21.0 in c:\\users\\dell\\anaconda3\\envs\\myenv\\lib\\site-packages (from tensorflow) (2.32.4)\n",
      "Requirement already satisfied: setuptools in c:\\users\\dell\\anaconda3\\envs\\myenv\\lib\\site-packages (from tensorflow) (78.1.1)\n",
      "Requirement already satisfied: six>=1.12.0 in c:\\users\\dell\\anaconda3\\envs\\myenv\\lib\\site-packages (from tensorflow) (1.17.0)\n",
      "Requirement already satisfied: termcolor>=1.1.0 in c:\\users\\dell\\anaconda3\\envs\\myenv\\lib\\site-packages (from tensorflow) (3.1.0)\n",
      "Requirement already satisfied: typing_extensions>=3.6.6 in c:\\users\\dell\\anaconda3\\envs\\myenv\\lib\\site-packages (from tensorflow) (4.12.2)\n",
      "Requirement already satisfied: wrapt>=1.11.0 in c:\\users\\dell\\anaconda3\\envs\\myenv\\lib\\site-packages (from tensorflow) (1.17.3)\n",
      "Requirement already satisfied: grpcio<2.0,>=1.24.3 in c:\\users\\dell\\anaconda3\\envs\\myenv\\lib\\site-packages (from tensorflow) (1.74.0)\n",
      "Requirement already satisfied: tensorboard~=2.20.0 in c:\\users\\dell\\anaconda3\\envs\\myenv\\lib\\site-packages (from tensorflow) (2.20.0)\n",
      "Requirement already satisfied: keras>=3.10.0 in c:\\users\\dell\\anaconda3\\envs\\myenv\\lib\\site-packages (from tensorflow) (3.11.3)\n",
      "Requirement already satisfied: numpy>=1.26.0 in c:\\users\\dell\\anaconda3\\envs\\myenv\\lib\\site-packages (from tensorflow) (2.2.6)\n",
      "Requirement already satisfied: h5py>=3.11.0 in c:\\users\\dell\\anaconda3\\envs\\myenv\\lib\\site-packages (from tensorflow) (3.14.0)\n",
      "Requirement already satisfied: ml_dtypes<1.0.0,>=0.5.1 in c:\\users\\dell\\anaconda3\\envs\\myenv\\lib\\site-packages (from tensorflow) (0.5.3)\n",
      "Requirement already satisfied: charset_normalizer<4,>=2 in c:\\users\\dell\\anaconda3\\envs\\myenv\\lib\\site-packages (from requests<3,>=2.21.0->tensorflow) (3.3.2)\n",
      "Requirement already satisfied: idna<4,>=2.5 in c:\\users\\dell\\anaconda3\\envs\\myenv\\lib\\site-packages (from requests<3,>=2.21.0->tensorflow) (3.7)\n",
      "Requirement already satisfied: urllib3<3,>=1.21.1 in c:\\users\\dell\\anaconda3\\envs\\myenv\\lib\\site-packages (from requests<3,>=2.21.0->tensorflow) (2.5.0)\n",
      "Requirement already satisfied: certifi>=2017.4.17 in c:\\users\\dell\\anaconda3\\envs\\myenv\\lib\\site-packages (from requests<3,>=2.21.0->tensorflow) (2025.6.15)\n",
      "Requirement already satisfied: markdown>=2.6.8 in c:\\users\\dell\\anaconda3\\envs\\myenv\\lib\\site-packages (from tensorboard~=2.20.0->tensorflow) (3.8.2)\n",
      "Requirement already satisfied: pillow in c:\\users\\dell\\anaconda3\\envs\\myenv\\lib\\site-packages (from tensorboard~=2.20.0->tensorflow) (11.3.0)\n",
      "Requirement already satisfied: tensorboard-data-server<0.8.0,>=0.7.0 in c:\\users\\dell\\anaconda3\\envs\\myenv\\lib\\site-packages (from tensorboard~=2.20.0->tensorflow) (0.7.2)\n",
      "Requirement already satisfied: werkzeug>=1.0.1 in c:\\users\\dell\\anaconda3\\envs\\myenv\\lib\\site-packages (from tensorboard~=2.20.0->tensorflow) (3.1.3)\n",
      "Requirement already satisfied: wheel<1.0,>=0.23.0 in c:\\users\\dell\\anaconda3\\envs\\myenv\\lib\\site-packages (from astunparse>=1.6.0->tensorflow) (0.45.1)\n",
      "Requirement already satisfied: rich in c:\\users\\dell\\anaconda3\\envs\\myenv\\lib\\site-packages (from keras>=3.10.0->tensorflow) (14.1.0)\n",
      "Requirement already satisfied: namex in c:\\users\\dell\\anaconda3\\envs\\myenv\\lib\\site-packages (from keras>=3.10.0->tensorflow) (0.1.0)\n",
      "Requirement already satisfied: optree in c:\\users\\dell\\anaconda3\\envs\\myenv\\lib\\site-packages (from keras>=3.10.0->tensorflow) (0.17.0)\n",
      "Requirement already satisfied: MarkupSafe>=2.1.1 in c:\\users\\dell\\anaconda3\\envs\\myenv\\lib\\site-packages (from werkzeug>=1.0.1->tensorboard~=2.20.0->tensorflow) (3.0.2)\n",
      "Requirement already satisfied: markdown-it-py>=2.2.0 in c:\\users\\dell\\anaconda3\\envs\\myenv\\lib\\site-packages (from rich->keras>=3.10.0->tensorflow) (4.0.0)\n",
      "Requirement already satisfied: pygments<3.0.0,>=2.13.0 in c:\\users\\dell\\anaconda3\\envs\\myenv\\lib\\site-packages (from rich->keras>=3.10.0->tensorflow) (2.19.1)\n",
      "Requirement already satisfied: mdurl~=0.1 in c:\\users\\dell\\anaconda3\\envs\\myenv\\lib\\site-packages (from markdown-it-py>=2.2.0->rich->keras>=3.10.0->tensorflow) (0.1.2)\n"
     ]
    }
   ],
   "source": [
    "pip install tensorflow\n"
   ]
  },
  {
   "cell_type": "code",
   "execution_count": null,
   "id": "ce7215f3-658c-401a-9189-90ce718e5953",
   "metadata": {},
   "outputs": [],
   "source": []
  },
  {
   "cell_type": "code",
   "execution_count": 2,
   "id": "ae1f1f54-d571-46c2-9074-f32b5897082b",
   "metadata": {},
   "outputs": [
    {
     "name": "stdout",
     "output_type": "stream",
     "text": [
      "Prediction for 5.5 hours study: [1]\n"
     ]
    }
   ],
   "source": [
    "import numpy as np\n",
    "from sklearn.neural_network import MLPClassifier\n",
    "from sklearn.preprocessing import StandardScaler\n",
    "\n",
    "# Dataset\n",
    "X = np.array([[1],[2],[3],[4],[5],[6],[7],[8]])\n",
    "y = np.array([0,0,0,1,1,1,1,1])\n",
    "\n",
    "# Scale Data\n",
    "scaler = StandardScaler()\n",
    "X_scaled = scaler.fit_transform(X)\n",
    "\n",
    "# Model\n",
    "model = MLPClassifier(hidden_layer_sizes=(10,), activation='relu', max_iter=5000)\n",
    "model.fit(X_scaled, y)\n",
    "\n",
    "print(\"Prediction for 5.5 hours study:\", model.predict(scaler.transform([[5.5]])))\n"
   ]
  },
  {
   "cell_type": "markdown",
   "id": "3b07b602-d3f1-4235-a548-d07271b6ae89",
   "metadata": {},
   "source": [
    "# 3. Search Algorithms (BFS & DFS)\n",
    "\n",
    "- When AI agents need to search for solutions in a problem space, they use search algorithms.\n",
    "\n",
    "- BFS (Breadth First Search): Explore level by level (queue-based). Guarantees shortest path.\n",
    "\n",
    "- DFS (Depth First Search): Explore deep first (stack-based / recursion). May not give shortest path but uses less memory."
   ]
  },
  {
   "cell_type": "markdown",
   "id": "90f09b6c-4d85-4e9e-8c61-495e5a33c329",
   "metadata": {},
   "source": [
    "# 3. Search Algorithms (BFS & DFS)"
   ]
  },
  {
   "cell_type": "code",
   "execution_count": 4,
   "id": "e3070813-a4f1-49c2-87b2-8ce1206856f5",
   "metadata": {},
   "outputs": [
    {
     "name": "stdout",
     "output_type": "stream",
     "text": [
      "BFS: ['A', 'B', 'C', 'D', 'E', 'F']\n",
      "DFS: ['A', 'B', 'D', 'E', 'F', 'C']\n"
     ]
    }
   ],
   "source": [
    "from collections import deque\n",
    "\n",
    "# Graph (Adjacency List)\n",
    "graph = {\n",
    "    'A': ['B', 'C'],\n",
    "    'B': ['D', 'E'],\n",
    "    'C': ['F'],\n",
    "    'D': [],\n",
    "    'E': ['F'],\n",
    "    'F': []\n",
    "}\n",
    "\n",
    "# BFS\n",
    "def bfs(start):\n",
    "    visited = []\n",
    "    queue = deque([start])\n",
    "    while queue:\n",
    "        node = queue.popleft()\n",
    "        if node not in visited:\n",
    "            visited.append(node)\n",
    "            queue.extend(graph[node])\n",
    "    return visited\n",
    "\n",
    "# DFS\n",
    "def dfs(start, visited=None):\n",
    "    if visited is None:\n",
    "        visited = []\n",
    "    visited.append(start)\n",
    "    for neighbour in graph[start]:\n",
    "        if neighbour not in visited:\n",
    "            dfs(neighbour, visited)\n",
    "    return visited\n",
    "\n",
    "print(\"BFS:\", bfs('A'))\n",
    "print(\"DFS:\", dfs('A'))\n"
   ]
  },
  {
   "cell_type": "markdown",
   "id": "145a46c2-1f6e-455b-acdc-e143e3c47511",
   "metadata": {},
   "source": [
    "# 4. Game AI (Minimax & Alpha-Beta Pruning)\n",
    "\n",
    "- Minimax Algorithm: Used in 2-player games (like Chess, Tic-Tac-Toe). One player tries to maximize score, other tries to minimize it.\n",
    "\n",
    "- Alpha-Beta Pruning: Optimization of Minimax → reduces number of nodes explored, making it faster."
   ]
  },
  {
   "cell_type": "markdown",
   "id": "ed65a956-d596-4a4e-b554-9de79680e3e3",
   "metadata": {},
   "source": [
    "# Game AI (Minimax + Alpha-Beta)\n",
    "Example: Tic-Tac-Toe (Mini code)"
   ]
  },
  {
   "cell_type": "code",
   "execution_count": 5,
   "id": "94f5b632-3b22-4518-982e-4389763a96ef",
   "metadata": {},
   "outputs": [
    {
     "name": "stdout",
     "output_type": "stream",
     "text": [
      "Best score for Maximizer: 0\n"
     ]
    }
   ],
   "source": [
    "import math\n",
    "\n",
    "# Minimax Algorithm\n",
    "def minimax(depth, isMaximizing):\n",
    "    scores = {\"X\": -1, \"O\": 1, \"draw\": 0}\n",
    "\n",
    "    # Example base case\n",
    "    if depth == 0:  \n",
    "        return scores[\"draw\"]  \n",
    "\n",
    "    if isMaximizing:\n",
    "        best = -math.inf\n",
    "        best = max(best, minimax(depth-1, False))\n",
    "        return best\n",
    "    else:\n",
    "        best = math.inf\n",
    "        best = min(best, minimax(depth-1, True))\n",
    "        return best\n",
    "\n",
    "print(\"Best score for Maximizer:\", minimax(2, True))\n"
   ]
  },
  {
   "cell_type": "markdown",
   "id": "cce09843-dd8e-48c3-bb97-eba829151ffd",
   "metadata": {},
   "source": [
    "# 5. Neural Networks (Introduction)\n",
    "\n",
    "- Neural Networks are inspired by the human brain.\n",
    "\n",
    "- Basic unit = Neuron (takes input → applies weight + activation → gives output).\n",
    "\n",
    "# Layers:\n",
    "\n",
    "- Input Layer (data features)\n",
    "\n",
    "- Hidden Layers (process info)\n",
    "\n",
    "- Output Layer (final prediction"
   ]
  },
  {
   "cell_type": "code",
   "execution_count": 6,
   "id": "753ea518-78d5-4b79-9eba-0323954db4fb",
   "metadata": {},
   "outputs": [
    {
     "name": "stdout",
     "output_type": "stream",
     "text": [
      "Prediction for [1,0]: [1]\n"
     ]
    },
    {
     "name": "stderr",
     "output_type": "stream",
     "text": [
      "C:\\Users\\DELL\\anaconda3\\envs\\myenv\\lib\\site-packages\\sklearn\\neural_network\\_multilayer_perceptron.py:781: ConvergenceWarning: Stochastic Optimizer: Maximum iterations (1000) reached and the optimization hasn't converged yet.\n",
      "  warnings.warn(\n"
     ]
    }
   ],
   "source": [
    "import numpy as np\n",
    "from sklearn.neural_network import MLPClassifier\n",
    "\n",
    "# XOR dataset\n",
    "X = np.array([[0,0],[0,1],[1,0],[1,1]])\n",
    "y = np.array([0,1,1,0])\n",
    "\n",
    "model = MLPClassifier(hidden_layer_sizes=(4,), activation='relu', max_iter=1000)\n",
    "model.fit(X, y)\n",
    "\n",
    "print(\"Prediction for [1,0]:\", model.predict([[1,0]]))\n"
   ]
  },
  {
   "cell_type": "code",
   "execution_count": 7,
   "id": "89e917d5-c8e7-4b0b-8f00-7aae727081e6",
   "metadata": {},
   "outputs": [
    {
     "name": "stdout",
     "output_type": "stream",
     "text": [
      "Prediction for 5.5 hours study: [1]\n"
     ]
    }
   ],
   "source": [
    "import numpy as np\n",
    "from sklearn.neural_network import MLPClassifier\n",
    "from sklearn.preprocessing import StandardScaler\n",
    "\n",
    "# Dataset\n",
    "X = np.array([[1],[2],[3],[4],[5],[6],[7],[8]])\n",
    "y = np.array([0,0,0,1,1,1,1,1])\n",
    "\n",
    "# Scale Data\n",
    "scaler = StandardScaler()\n",
    "X_scaled = scaler.fit_transform(X)\n",
    "\n",
    "# Model\n",
    "model = MLPClassifier(hidden_layer_sizes=(10,), activation='relu', max_iter=5000)\n",
    "model.fit(X_scaled, y)\n",
    "\n",
    "print(\"Prediction for 5.5 hours study:\", model.predict(scaler.transform([[5.5]])))\n"
   ]
  },
  {
   "cell_type": "markdown",
   "id": "9baceb35-38ed-4de2-ba9d-3322291a9bb0",
   "metadata": {},
   "source": [
    "# 6. Basics of Natural Language Processing (NLP)\n",
    "\n",
    "NLP is the branch of AI that helps computers understand, interpret, and generate human language.\n",
    "\n",
    "Common NLP tasks:\n",
    "\n",
    "- Tokenization (splitting text into words)\n",
    "\n",
    "- Stemming/Lemmatization (reducing words to root form)\n",
    "\n",
    "- Sentiment Analysis (positive/negative review detection)\n",
    "\n",
    "- Machine Translation (Google Translate)"
   ]
  },
  {
   "cell_type": "markdown",
   "id": "e8cc62a0-65be-4fd8-942c-ce9b8df6cd1c",
   "metadata": {},
   "source": [
    "# Example:\n",
    "\n",
    "- Google Translate\n",
    "\n",
    "- ChatGPT 😉\n",
    "\n",
    "- Spam email detection"
   ]
  },
  {
   "cell_type": "code",
   "execution_count": 9,
   "id": "4529bfd9-5e74-4d23-bc08-28dda3e9c904",
   "metadata": {},
   "outputs": [
    {
     "ename": "ModuleNotFoundError",
     "evalue": "No module named 'nltk'",
     "output_type": "error",
     "traceback": [
      "\u001b[1;31m---------------------------------------------------------------------------\u001b[0m",
      "\u001b[1;31mModuleNotFoundError\u001b[0m                       Traceback (most recent call last)",
      "Cell \u001b[1;32mIn[9], line 1\u001b[0m\n\u001b[1;32m----> 1\u001b[0m \u001b[38;5;28;01mimport\u001b[39;00m\u001b[38;5;250m \u001b[39m\u001b[38;5;21;01mnltk\u001b[39;00m\n\u001b[0;32m      2\u001b[0m \u001b[38;5;28;01mfrom\u001b[39;00m\u001b[38;5;250m \u001b[39m\u001b[38;5;21;01mnltk\u001b[39;00m\u001b[38;5;21;01m.\u001b[39;00m\u001b[38;5;21;01mtokenize\u001b[39;00m\u001b[38;5;250m \u001b[39m\u001b[38;5;28;01mimport\u001b[39;00m word_tokenize\n\u001b[0;32m      3\u001b[0m \u001b[38;5;28;01mfrom\u001b[39;00m\u001b[38;5;250m \u001b[39m\u001b[38;5;21;01mnltk\u001b[39;00m\u001b[38;5;21;01m.\u001b[39;00m\u001b[38;5;21;01msentiment\u001b[39;00m\u001b[38;5;250m \u001b[39m\u001b[38;5;28;01mimport\u001b[39;00m SentimentIntensityAnalyzer\n",
      "\u001b[1;31mModuleNotFoundError\u001b[0m: No module named 'nltk'"
     ]
    }
   ],
   "source": [
    "import nltk\n",
    "from nltk.tokenize import word_tokenize\n",
    "from nltk.sentiment import SentimentIntensityAnalyzer\n",
    "\n",
    "nltk.download('punkt')\n",
    "nltk.download('vader_lexicon')\n",
    "\n",
    "text = \"I love Artificial Intelligence but sometimes it is very challenging.\"\n",
    "\n",
    "# Tokenization\n",
    "print(\"Tokens:\", word_tokenize(text))\n",
    "\n",
    "# Sentiment Analysis\n",
    "sia = SentimentIntensityAnalyzer()\n",
    "print(\"Sentiment:\", sia.polarity_scores(text))\n"
   ]
  },
  {
   "cell_type": "code",
   "execution_count": 1,
   "id": "598ac853-1e5e-4856-a0aa-7d7fa620c761",
   "metadata": {},
   "outputs": [
    {
     "name": "stdout",
     "output_type": "stream",
     "text": [
      "Requirement already satisfied: nltk in c:\\users\\dell\\anaconda3\\envs\\myenv\\lib\\site-packages (3.9.1)Note: you may need to restart the kernel to use updated packages.\n",
      "\n",
      "Requirement already satisfied: click in c:\\users\\dell\\anaconda3\\envs\\myenv\\lib\\site-packages (from nltk) (8.2.1)\n",
      "Requirement already satisfied: joblib in c:\\users\\dell\\anaconda3\\envs\\myenv\\lib\\site-packages (from nltk) (1.5.1)\n",
      "Requirement already satisfied: regex>=2021.8.3 in c:\\users\\dell\\anaconda3\\envs\\myenv\\lib\\site-packages (from nltk) (2025.7.34)\n",
      "Requirement already satisfied: tqdm in c:\\users\\dell\\anaconda3\\envs\\myenv\\lib\\site-packages (from nltk) (4.67.1)\n",
      "Requirement already satisfied: colorama in c:\\users\\dell\\anaconda3\\envs\\myenv\\lib\\site-packages (from click->nltk) (0.4.6)\n"
     ]
    }
   ],
   "source": [
    "pip install nltk\n"
   ]
  },
  {
   "cell_type": "code",
   "execution_count": 2,
   "id": "e50e6cc3-3118-44bb-ab66-0b8169aa256c",
   "metadata": {},
   "outputs": [
    {
     "name": "stderr",
     "output_type": "stream",
     "text": [
      "[nltk_data] Downloading package punkt to\n",
      "[nltk_data]     C:\\Users\\DELL\\AppData\\Roaming\\nltk_data...\n",
      "[nltk_data]   Unzipping tokenizers\\punkt.zip.\n",
      "[nltk_data] Downloading package vader_lexicon to\n",
      "[nltk_data]     C:\\Users\\DELL\\AppData\\Roaming\\nltk_data...\n"
     ]
    },
    {
     "ename": "LookupError",
     "evalue": "\n**********************************************************************\n  Resource \u001b[93mpunkt_tab\u001b[0m not found.\n  Please use the NLTK Downloader to obtain the resource:\n\n  \u001b[31m>>> import nltk\n  >>> nltk.download('punkt_tab')\n  \u001b[0m\n  For more information see: https://www.nltk.org/data.html\n\n  Attempted to load \u001b[93mtokenizers/punkt_tab/english/\u001b[0m\n\n  Searched in:\n    - 'C:\\\\Users\\\\DELL/nltk_data'\n    - 'C:\\\\Users\\\\DELL\\\\anaconda3\\\\envs\\\\myenv\\\\nltk_data'\n    - 'C:\\\\Users\\\\DELL\\\\anaconda3\\\\envs\\\\myenv\\\\share\\\\nltk_data'\n    - 'C:\\\\Users\\\\DELL\\\\anaconda3\\\\envs\\\\myenv\\\\lib\\\\nltk_data'\n    - 'C:\\\\Users\\\\DELL\\\\AppData\\\\Roaming\\\\nltk_data'\n    - 'C:\\\\nltk_data'\n    - 'D:\\\\nltk_data'\n    - 'E:\\\\nltk_data'\n**********************************************************************\n",
     "output_type": "error",
     "traceback": [
      "\u001b[1;31m---------------------------------------------------------------------------\u001b[0m",
      "\u001b[1;31mLookupError\u001b[0m                               Traceback (most recent call last)",
      "Cell \u001b[1;32mIn[2], line 11\u001b[0m\n\u001b[0;32m      8\u001b[0m text \u001b[38;5;241m=\u001b[39m \u001b[38;5;124m\"\u001b[39m\u001b[38;5;124mI love Artificial Intelligence but sometimes it is very challenging.\u001b[39m\u001b[38;5;124m\"\u001b[39m\n\u001b[0;32m     10\u001b[0m \u001b[38;5;66;03m# Tokenization\u001b[39;00m\n\u001b[1;32m---> 11\u001b[0m \u001b[38;5;28mprint\u001b[39m(\u001b[38;5;124m\"\u001b[39m\u001b[38;5;124mTokens:\u001b[39m\u001b[38;5;124m\"\u001b[39m, \u001b[43mword_tokenize\u001b[49m\u001b[43m(\u001b[49m\u001b[43mtext\u001b[49m\u001b[43m)\u001b[49m)\n\u001b[0;32m     13\u001b[0m \u001b[38;5;66;03m# Sentiment Analysis\u001b[39;00m\n\u001b[0;32m     14\u001b[0m sia \u001b[38;5;241m=\u001b[39m SentimentIntensityAnalyzer()\n",
      "File \u001b[1;32m~\\anaconda3\\envs\\myenv\\lib\\site-packages\\nltk\\tokenize\\__init__.py:142\u001b[0m, in \u001b[0;36mword_tokenize\u001b[1;34m(text, language, preserve_line)\u001b[0m\n\u001b[0;32m    127\u001b[0m \u001b[38;5;28;01mdef\u001b[39;00m\u001b[38;5;250m \u001b[39m\u001b[38;5;21mword_tokenize\u001b[39m(text, language\u001b[38;5;241m=\u001b[39m\u001b[38;5;124m\"\u001b[39m\u001b[38;5;124menglish\u001b[39m\u001b[38;5;124m\"\u001b[39m, preserve_line\u001b[38;5;241m=\u001b[39m\u001b[38;5;28;01mFalse\u001b[39;00m):\n\u001b[0;32m    128\u001b[0m \u001b[38;5;250m    \u001b[39m\u001b[38;5;124;03m\"\"\"\u001b[39;00m\n\u001b[0;32m    129\u001b[0m \u001b[38;5;124;03m    Return a tokenized copy of *text*,\u001b[39;00m\n\u001b[0;32m    130\u001b[0m \u001b[38;5;124;03m    using NLTK's recommended word tokenizer\u001b[39;00m\n\u001b[1;32m   (...)\u001b[0m\n\u001b[0;32m    140\u001b[0m \u001b[38;5;124;03m    :type preserve_line: bool\u001b[39;00m\n\u001b[0;32m    141\u001b[0m \u001b[38;5;124;03m    \"\"\"\u001b[39;00m\n\u001b[1;32m--> 142\u001b[0m     sentences \u001b[38;5;241m=\u001b[39m [text] \u001b[38;5;28;01mif\u001b[39;00m preserve_line \u001b[38;5;28;01melse\u001b[39;00m \u001b[43msent_tokenize\u001b[49m\u001b[43m(\u001b[49m\u001b[43mtext\u001b[49m\u001b[43m,\u001b[49m\u001b[43m \u001b[49m\u001b[43mlanguage\u001b[49m\u001b[43m)\u001b[49m\n\u001b[0;32m    143\u001b[0m     \u001b[38;5;28;01mreturn\u001b[39;00m [\n\u001b[0;32m    144\u001b[0m         token \u001b[38;5;28;01mfor\u001b[39;00m sent \u001b[38;5;129;01min\u001b[39;00m sentences \u001b[38;5;28;01mfor\u001b[39;00m token \u001b[38;5;129;01min\u001b[39;00m _treebank_word_tokenizer\u001b[38;5;241m.\u001b[39mtokenize(sent)\n\u001b[0;32m    145\u001b[0m     ]\n",
      "File \u001b[1;32m~\\anaconda3\\envs\\myenv\\lib\\site-packages\\nltk\\tokenize\\__init__.py:119\u001b[0m, in \u001b[0;36msent_tokenize\u001b[1;34m(text, language)\u001b[0m\n\u001b[0;32m    109\u001b[0m \u001b[38;5;28;01mdef\u001b[39;00m\u001b[38;5;250m \u001b[39m\u001b[38;5;21msent_tokenize\u001b[39m(text, language\u001b[38;5;241m=\u001b[39m\u001b[38;5;124m\"\u001b[39m\u001b[38;5;124menglish\u001b[39m\u001b[38;5;124m\"\u001b[39m):\n\u001b[0;32m    110\u001b[0m \u001b[38;5;250m    \u001b[39m\u001b[38;5;124;03m\"\"\"\u001b[39;00m\n\u001b[0;32m    111\u001b[0m \u001b[38;5;124;03m    Return a sentence-tokenized copy of *text*,\u001b[39;00m\n\u001b[0;32m    112\u001b[0m \u001b[38;5;124;03m    using NLTK's recommended sentence tokenizer\u001b[39;00m\n\u001b[1;32m   (...)\u001b[0m\n\u001b[0;32m    117\u001b[0m \u001b[38;5;124;03m    :param language: the model name in the Punkt corpus\u001b[39;00m\n\u001b[0;32m    118\u001b[0m \u001b[38;5;124;03m    \"\"\"\u001b[39;00m\n\u001b[1;32m--> 119\u001b[0m     tokenizer \u001b[38;5;241m=\u001b[39m \u001b[43m_get_punkt_tokenizer\u001b[49m\u001b[43m(\u001b[49m\u001b[43mlanguage\u001b[49m\u001b[43m)\u001b[49m\n\u001b[0;32m    120\u001b[0m     \u001b[38;5;28;01mreturn\u001b[39;00m tokenizer\u001b[38;5;241m.\u001b[39mtokenize(text)\n",
      "File \u001b[1;32m~\\anaconda3\\envs\\myenv\\lib\\site-packages\\nltk\\tokenize\\__init__.py:105\u001b[0m, in \u001b[0;36m_get_punkt_tokenizer\u001b[1;34m(language)\u001b[0m\n\u001b[0;32m     96\u001b[0m \u001b[38;5;129m@functools\u001b[39m\u001b[38;5;241m.\u001b[39mlru_cache\n\u001b[0;32m     97\u001b[0m \u001b[38;5;28;01mdef\u001b[39;00m\u001b[38;5;250m \u001b[39m\u001b[38;5;21m_get_punkt_tokenizer\u001b[39m(language\u001b[38;5;241m=\u001b[39m\u001b[38;5;124m\"\u001b[39m\u001b[38;5;124menglish\u001b[39m\u001b[38;5;124m\"\u001b[39m):\n\u001b[0;32m     98\u001b[0m \u001b[38;5;250m    \u001b[39m\u001b[38;5;124;03m\"\"\"\u001b[39;00m\n\u001b[0;32m     99\u001b[0m \u001b[38;5;124;03m    A constructor for the PunktTokenizer that utilizes\u001b[39;00m\n\u001b[0;32m    100\u001b[0m \u001b[38;5;124;03m    a lru cache for performance.\u001b[39;00m\n\u001b[1;32m   (...)\u001b[0m\n\u001b[0;32m    103\u001b[0m \u001b[38;5;124;03m    :type language: str\u001b[39;00m\n\u001b[0;32m    104\u001b[0m \u001b[38;5;124;03m    \"\"\"\u001b[39;00m\n\u001b[1;32m--> 105\u001b[0m     \u001b[38;5;28;01mreturn\u001b[39;00m \u001b[43mPunktTokenizer\u001b[49m\u001b[43m(\u001b[49m\u001b[43mlanguage\u001b[49m\u001b[43m)\u001b[49m\n",
      "File \u001b[1;32m~\\anaconda3\\envs\\myenv\\lib\\site-packages\\nltk\\tokenize\\punkt.py:1744\u001b[0m, in \u001b[0;36mPunktTokenizer.__init__\u001b[1;34m(self, lang)\u001b[0m\n\u001b[0;32m   1742\u001b[0m \u001b[38;5;28;01mdef\u001b[39;00m\u001b[38;5;250m \u001b[39m\u001b[38;5;21m__init__\u001b[39m(\u001b[38;5;28mself\u001b[39m, lang\u001b[38;5;241m=\u001b[39m\u001b[38;5;124m\"\u001b[39m\u001b[38;5;124menglish\u001b[39m\u001b[38;5;124m\"\u001b[39m):\n\u001b[0;32m   1743\u001b[0m     PunktSentenceTokenizer\u001b[38;5;241m.\u001b[39m\u001b[38;5;21m__init__\u001b[39m(\u001b[38;5;28mself\u001b[39m)\n\u001b[1;32m-> 1744\u001b[0m     \u001b[38;5;28;43mself\u001b[39;49m\u001b[38;5;241;43m.\u001b[39;49m\u001b[43mload_lang\u001b[49m\u001b[43m(\u001b[49m\u001b[43mlang\u001b[49m\u001b[43m)\u001b[49m\n",
      "File \u001b[1;32m~\\anaconda3\\envs\\myenv\\lib\\site-packages\\nltk\\tokenize\\punkt.py:1749\u001b[0m, in \u001b[0;36mPunktTokenizer.load_lang\u001b[1;34m(self, lang)\u001b[0m\n\u001b[0;32m   1746\u001b[0m \u001b[38;5;28;01mdef\u001b[39;00m\u001b[38;5;250m \u001b[39m\u001b[38;5;21mload_lang\u001b[39m(\u001b[38;5;28mself\u001b[39m, lang\u001b[38;5;241m=\u001b[39m\u001b[38;5;124m\"\u001b[39m\u001b[38;5;124menglish\u001b[39m\u001b[38;5;124m\"\u001b[39m):\n\u001b[0;32m   1747\u001b[0m     \u001b[38;5;28;01mfrom\u001b[39;00m\u001b[38;5;250m \u001b[39m\u001b[38;5;21;01mnltk\u001b[39;00m\u001b[38;5;21;01m.\u001b[39;00m\u001b[38;5;21;01mdata\u001b[39;00m\u001b[38;5;250m \u001b[39m\u001b[38;5;28;01mimport\u001b[39;00m find\n\u001b[1;32m-> 1749\u001b[0m     lang_dir \u001b[38;5;241m=\u001b[39m \u001b[43mfind\u001b[49m\u001b[43m(\u001b[49m\u001b[38;5;124;43mf\u001b[39;49m\u001b[38;5;124;43m\"\u001b[39;49m\u001b[38;5;124;43mtokenizers/punkt_tab/\u001b[39;49m\u001b[38;5;132;43;01m{\u001b[39;49;00m\u001b[43mlang\u001b[49m\u001b[38;5;132;43;01m}\u001b[39;49;00m\u001b[38;5;124;43m/\u001b[39;49m\u001b[38;5;124;43m\"\u001b[39;49m\u001b[43m)\u001b[49m\n\u001b[0;32m   1750\u001b[0m     \u001b[38;5;28mself\u001b[39m\u001b[38;5;241m.\u001b[39m_params \u001b[38;5;241m=\u001b[39m load_punkt_params(lang_dir)\n\u001b[0;32m   1751\u001b[0m     \u001b[38;5;28mself\u001b[39m\u001b[38;5;241m.\u001b[39m_lang \u001b[38;5;241m=\u001b[39m lang\n",
      "File \u001b[1;32m~\\anaconda3\\envs\\myenv\\lib\\site-packages\\nltk\\data.py:579\u001b[0m, in \u001b[0;36mfind\u001b[1;34m(resource_name, paths)\u001b[0m\n\u001b[0;32m    577\u001b[0m sep \u001b[38;5;241m=\u001b[39m \u001b[38;5;124m\"\u001b[39m\u001b[38;5;124m*\u001b[39m\u001b[38;5;124m\"\u001b[39m \u001b[38;5;241m*\u001b[39m \u001b[38;5;241m70\u001b[39m\n\u001b[0;32m    578\u001b[0m resource_not_found \u001b[38;5;241m=\u001b[39m \u001b[38;5;124mf\u001b[39m\u001b[38;5;124m\"\u001b[39m\u001b[38;5;130;01m\\n\u001b[39;00m\u001b[38;5;132;01m{\u001b[39;00msep\u001b[38;5;132;01m}\u001b[39;00m\u001b[38;5;130;01m\\n\u001b[39;00m\u001b[38;5;132;01m{\u001b[39;00mmsg\u001b[38;5;132;01m}\u001b[39;00m\u001b[38;5;130;01m\\n\u001b[39;00m\u001b[38;5;132;01m{\u001b[39;00msep\u001b[38;5;132;01m}\u001b[39;00m\u001b[38;5;130;01m\\n\u001b[39;00m\u001b[38;5;124m\"\u001b[39m\n\u001b[1;32m--> 579\u001b[0m \u001b[38;5;28;01mraise\u001b[39;00m \u001b[38;5;167;01mLookupError\u001b[39;00m(resource_not_found)\n",
      "\u001b[1;31mLookupError\u001b[0m: \n**********************************************************************\n  Resource \u001b[93mpunkt_tab\u001b[0m not found.\n  Please use the NLTK Downloader to obtain the resource:\n\n  \u001b[31m>>> import nltk\n  >>> nltk.download('punkt_tab')\n  \u001b[0m\n  For more information see: https://www.nltk.org/data.html\n\n  Attempted to load \u001b[93mtokenizers/punkt_tab/english/\u001b[0m\n\n  Searched in:\n    - 'C:\\\\Users\\\\DELL/nltk_data'\n    - 'C:\\\\Users\\\\DELL\\\\anaconda3\\\\envs\\\\myenv\\\\nltk_data'\n    - 'C:\\\\Users\\\\DELL\\\\anaconda3\\\\envs\\\\myenv\\\\share\\\\nltk_data'\n    - 'C:\\\\Users\\\\DELL\\\\anaconda3\\\\envs\\\\myenv\\\\lib\\\\nltk_data'\n    - 'C:\\\\Users\\\\DELL\\\\AppData\\\\Roaming\\\\nltk_data'\n    - 'C:\\\\nltk_data'\n    - 'D:\\\\nltk_data'\n    - 'E:\\\\nltk_data'\n**********************************************************************\n"
     ]
    }
   ],
   "source": [
    "import nltk\n",
    "from nltk.tokenize import word_tokenize\n",
    "from nltk.sentiment import SentimentIntensityAnalyzer\n",
    "\n",
    "nltk.download('punkt')\n",
    "nltk.download('vader_lexicon')\n",
    "\n",
    "text = \"I love Artificial Intelligence but sometimes it is very challenging.\"\n",
    "\n",
    "# Tokenization\n",
    "print(\"Tokens:\", word_tokenize(text))\n",
    "\n",
    "# Sentiment Analysis\n",
    "sia = SentimentIntensityAnalyzer()\n",
    "print(\"Sentiment:\", sia.polarity_scores(text))"
   ]
  },
  {
   "cell_type": "code",
   "execution_count": 3,
   "id": "5434f37c-7894-4a3b-994b-5165025b5d6a",
   "metadata": {},
   "outputs": [
    {
     "name": "stderr",
     "output_type": "stream",
     "text": [
      "[nltk_data] Downloading package punkt_tab to\n",
      "[nltk_data]     C:\\Users\\DELL\\AppData\\Roaming\\nltk_data...\n",
      "[nltk_data]   Unzipping tokenizers\\punkt_tab.zip.\n"
     ]
    },
    {
     "data": {
      "text/plain": [
       "True"
      ]
     },
     "execution_count": 3,
     "metadata": {},
     "output_type": "execute_result"
    }
   ],
   "source": [
    "import nltk\n",
    "nltk.download('punkt_tab')\n"
   ]
  },
  {
   "cell_type": "code",
   "execution_count": 4,
   "id": "e693b303-a51d-4f2f-a697-a49d6599f0cb",
   "metadata": {},
   "outputs": [
    {
     "name": "stdout",
     "output_type": "stream",
     "text": [
      "Tokens: ['I', 'love', 'Artificial', 'Intelligence', 'but', 'sometimes', 'it', 'is', 'very', 'challenging', '.']\n",
      "Sentiment: {'neg': 0.0, 'neu': 0.462, 'pos': 0.538, 'compound': 0.7175}\n"
     ]
    }
   ],
   "source": [
    "from nltk.tokenize import word_tokenize\n",
    "from nltk.sentiment import SentimentIntensityAnalyzer\n",
    "\n",
    "text = \"I love Artificial Intelligence but sometimes it is very challenging.\"\n",
    "\n",
    "# Tokenization\n",
    "print(\"Tokens:\", word_tokenize(text))\n",
    "\n",
    "# Sentiment Analysis\n",
    "sia = SentimentIntensityAnalyzer()\n",
    "print(\"Sentiment:\", sia.polarity_scores(text))\n"
   ]
  },
  {
   "cell_type": "markdown",
   "id": "5d678cf2-24c6-4bd4-8b87-b457a32e8518",
   "metadata": {},
   "source": [
    "# 7. Real-Life Applications of AI\n",
    "\n",
    "\n",
    "- Healthcare (स्वास्थ्य): Disease prediction, X-ray analysis\n",
    "\n",
    "- Finance (वित्त): Fraud detection, stock prediction\n",
    "\n",
    "- Transportation (परिवहन): Self-driving cars, traffic prediction\n",
    "\n",
    "- E-commerce (ऑनलाइन शॉपिंग): Product recommendation\n",
    "\n",
    "- Entertainment (मनोरंजन): Netflix/YouTube recommendations\n",
    "\n",
    "- Daily Life (दैनिक जीवन): Siri, Alexa, Google Maps"
   ]
  },
  {
   "cell_type": "code",
   "execution_count": 5,
   "id": "9f123814-1e3d-47ff-ac56-94ad684df2c2",
   "metadata": {},
   "outputs": [
    {
     "name": "stdout",
     "output_type": "stream",
     "text": [
      "User Similarity Matrix:\n",
      " [[1.         0.62469505 0.27937212]\n",
      " [0.62469505 1.         0.53665631]\n",
      " [0.27937212 0.53665631 1.        ]]\n"
     ]
    }
   ],
   "source": [
    "# Recommend movies based on user rating similarity\n",
    "import numpy as np\n",
    "from sklearn.metrics.pairwise import cosine_similarity\n",
    "\n",
    "# User-Movie Rating Matrix\n",
    "ratings = np.array([\n",
    "    [5, 4, 0],   # User1\n",
    "    [4, 0, 3],   # User2\n",
    "    [0, 2, 4]    # User3\n",
    "])\n",
    "\n",
    "similarity = cosine_similarity(ratings)\n",
    "print(\"User Similarity Matrix:\\n\", similarity)\n"
   ]
  },
  {
   "cell_type": "markdown",
   "id": "f80f1647-0a28-4d9f-8d2d-3f6c0c5f616b",
   "metadata": {},
   "source": [
    "# Practice Projects:\n",
    "- AI Chatbot using python + NLP\n",
    "- Emotion Detector using ML"
   ]
  },
  {
   "cell_type": "markdown",
   "id": "a1c1f007-840c-4204-aded-49fd30b63629",
   "metadata": {},
   "source": [
    "# Step 1: Confirm Installations"
   ]
  },
  {
   "cell_type": "code",
   "execution_count": 6,
   "id": "0c8d4bbd-11e0-48d8-b583-4c0c82644b56",
   "metadata": {},
   "outputs": [
    {
     "name": "stdout",
     "output_type": "stream",
     "text": [
      "NLTK Version: 3.9.1\n",
      "NLTK Chatbot Module OK ✅\n"
     ]
    }
   ],
   "source": [
    "import nltk, sklearn\n",
    "\n",
    "print(\"NLTK Version:\", nltk.__version__)\n",
    "\n",
    "from nltk.chat.util import Chat, reflections\n",
    "print(\"NLTK Chatbot Module OK ✅\")\n"
   ]
  },
  {
   "cell_type": "markdown",
   "id": "fbdd5b56-b69d-462d-a266-818a98662df1",
   "metadata": {},
   "source": [
    "# Simple Rule-Based AI Chatbot (Python + NLTK)"
   ]
  },
  {
   "cell_type": "code",
   "execution_count": 7,
   "id": "69cbbe9e-d377-47ba-8caf-1460100cdefd",
   "metadata": {},
   "outputs": [
    {
     "name": "stdout",
     "output_type": "stream",
     "text": [
      "🤖 Chatbot is ready! Type 'quit' to exit.\n",
      "\n"
     ]
    },
    {
     "name": "stdin",
     "output_type": "stream",
     "text": [
      "You:  hey\n"
     ]
    },
    {
     "name": "stdout",
     "output_type": "stream",
     "text": [
      "Chatbot: Hi, what's up?\n"
     ]
    },
    {
     "name": "stdin",
     "output_type": "stream",
     "text": [
      "You:  m good\n"
     ]
    },
    {
     "name": "stdout",
     "output_type": "stream",
     "text": [
      "Chatbot: None\n"
     ]
    },
    {
     "name": "stdin",
     "output_type": "stream",
     "text": [
      "You:  quit\n"
     ]
    },
    {
     "name": "stdout",
     "output_type": "stream",
     "text": [
      "Chatbot: Bye! Have a great day 👋\n"
     ]
    }
   ],
   "source": [
    "# Import\n",
    "from nltk.chat.util import Chat, reflections\n",
    "\n",
    "# Pairs: User Input → Bot Response\n",
    "pairs = [\n",
    "    [\n",
    "        r\"hi|hello|hey\",\n",
    "        [\"Hello! 👋 How can I help you today?\", \"Hey there! 🙂\", \"Hi, what's up?\"]\n",
    "    ],\n",
    "    [\n",
    "        r\"my name is (.*)\",\n",
    "        [\"Nice to meet you %1 😊\", \"Hello %1, how are you doing today?\"]\n",
    "    ],\n",
    "    [\n",
    "        r\"what is your name ?\",\n",
    "        [\"I am an AI Chatbot 🤖 created using Python and NLTK.\",]\n",
    "    ],\n",
    "    [\n",
    "        r\"how are you ?\",\n",
    "        [\"I'm doing great! Thanks for asking. How about you?\",]\n",
    "    ],\n",
    "    [\n",
    "        r\"sorry (.*)\",\n",
    "        [\"No worries at all! It's okay 😇\", \"It's alright, no problem.\"]\n",
    "    ],\n",
    "    [\n",
    "        r\"i'm (.*) doing good\",\n",
    "        [\"Great to hear that!\", \"Awesome, keep it up!\"]\n",
    "    ],\n",
    "    [\n",
    "        r\"(.*) your favorite color?\",\n",
    "        [\"I like all colors 🌈, but blue feels cool!\",]\n",
    "    ],\n",
    "    [\n",
    "        r\"quit\",\n",
    "        [\"Bye! Take care. 👋\", \"Goodbye! Have a nice day 😊\"]\n",
    "    ],\n",
    "]\n",
    "\n",
    "# Create Chatbot\n",
    "chatbot = Chat(pairs, reflections)\n",
    "\n",
    "print(\"🤖 Chatbot is ready! Type 'quit' to exit.\\n\")\n",
    "\n",
    "# Chat Loop\n",
    "while True:\n",
    "    user_input = input(\"You: \")\n",
    "    if user_input.lower() == \"quit\":\n",
    "        print(\"Chatbot: Bye! Have a great day 👋\")\n",
    "        break\n",
    "    else:\n",
    "        print(\"Chatbot:\", chatbot.respond(user_input))\n"
   ]
  },
  {
   "cell_type": "markdown",
   "id": "379f9210-e578-4998-8a7b-fd990e8b6ead",
   "metadata": {},
   "source": [
    "# Emotion Detector using ML"
   ]
  },
  {
   "cell_type": "code",
   "execution_count": 8,
   "id": "1a820688-1d87-432d-8e49-edbe51c13074",
   "metadata": {},
   "outputs": [
    {
     "name": "stdout",
     "output_type": "stream",
     "text": [
      "Requirement already satisfied: pandas in c:\\users\\dell\\anaconda3\\envs\\myenv\\lib\\site-packages (2.3.1)\n",
      "Requirement already satisfied: numpy in c:\\users\\dell\\anaconda3\\envs\\myenv\\lib\\site-packages (2.2.6)\n",
      "Requirement already satisfied: matplotlib in c:\\users\\dell\\anaconda3\\envs\\myenv\\lib\\site-packages (3.10.5)\n",
      "Requirement already satisfied: seaborn in c:\\users\\dell\\anaconda3\\envs\\myenv\\lib\\site-packages (0.13.2)\n",
      "Requirement already satisfied: python-dateutil>=2.8.2 in c:\\users\\dell\\anaconda3\\envs\\myenv\\lib\\site-packages (from pandas) (2.9.0.post0)\n",
      "Requirement already satisfied: pytz>=2020.1 in c:\\users\\dell\\anaconda3\\envs\\myenv\\lib\\site-packages (from pandas) (2025.2)\n",
      "Requirement already satisfied: tzdata>=2022.7 in c:\\users\\dell\\anaconda3\\envs\\myenv\\lib\\site-packages (from pandas) (2025.2)\n",
      "Requirement already satisfied: contourpy>=1.0.1 in c:\\users\\dell\\anaconda3\\envs\\myenv\\lib\\site-packages (from matplotlib) (1.3.2)\n",
      "Requirement already satisfied: cycler>=0.10 in c:\\users\\dell\\anaconda3\\envs\\myenv\\lib\\site-packages (from matplotlib) (0.12.1)\n",
      "Requirement already satisfied: fonttools>=4.22.0 in c:\\users\\dell\\anaconda3\\envs\\myenv\\lib\\site-packages (from matplotlib) (4.59.1)\n",
      "Requirement already satisfied: kiwisolver>=1.3.1 in c:\\users\\dell\\anaconda3\\envs\\myenv\\lib\\site-packages (from matplotlib) (1.4.9)\n",
      "Requirement already satisfied: packaging>=20.0 in c:\\users\\dell\\anaconda3\\envs\\myenv\\lib\\site-packages (from matplotlib) (24.2)\n",
      "Requirement already satisfied: pillow>=8 in c:\\users\\dell\\anaconda3\\envs\\myenv\\lib\\site-packages (from matplotlib) (11.3.0)\n",
      "Requirement already satisfied: pyparsing>=2.3.1 in c:\\users\\dell\\anaconda3\\envs\\myenv\\lib\\site-packages (from matplotlib) (3.2.3)\n",
      "Requirement already satisfied: six>=1.5 in c:\\users\\dell\\anaconda3\\envs\\myenv\\lib\\site-packages (from python-dateutil>=2.8.2->pandas) (1.17.0)\n"
     ]
    }
   ],
   "source": [
    "!pip install pandas numpy matplotlib seaborn\n"
   ]
  },
  {
   "cell_type": "code",
   "execution_count": 9,
   "id": "1d2ff415-bdcd-49ef-aead-54dcdaf85907",
   "metadata": {},
   "outputs": [
    {
     "name": "stdout",
     "output_type": "stream",
     "text": [
      "Dataset:\n",
      "                               text   emotion\n",
      "0              I am so happy today     happy\n",
      "1        This is the best day ever     happy\n",
      "2       I feel very sad and lonely       sad\n",
      "3        Why is life so depressing       sad\n",
      "4         I am really angry at you     angry\n",
      "5            This makes me furious     angry\n",
      "6        Wow, that’s amazing news!  surprise\n",
      "7   Oh my god, I can’t believe it!  surprise\n",
      "8       I am so scared of darkness      fear\n",
      "9  This horror movie is terrifying      fear\n",
      "\n",
      "Accuracy: 0.0\n",
      "\n",
      "Classification Report:\n",
      "               precision    recall  f1-score   support\n",
      "\n",
      "       angry       0.00      0.00      0.00       1.0\n",
      "        fear       0.00      0.00      0.00       1.0\n",
      "       happy       0.00      0.00      0.00       1.0\n",
      "         sad       0.00      0.00      0.00       0.0\n",
      "    surprise       0.00      0.00      0.00       0.0\n",
      "\n",
      "    accuracy                           0.00       3.0\n",
      "   macro avg       0.00      0.00      0.00       3.0\n",
      "weighted avg       0.00      0.00      0.00       3.0\n",
      "\n"
     ]
    },
    {
     "name": "stderr",
     "output_type": "stream",
     "text": [
      "C:\\Users\\DELL\\anaconda3\\envs\\myenv\\lib\\site-packages\\sklearn\\metrics\\_classification.py:1731: UndefinedMetricWarning: Precision is ill-defined and being set to 0.0 in labels with no predicted samples. Use `zero_division` parameter to control this behavior.\n",
      "  _warn_prf(average, modifier, f\"{metric.capitalize()} is\", result.shape[0])\n",
      "C:\\Users\\DELL\\anaconda3\\envs\\myenv\\lib\\site-packages\\sklearn\\metrics\\_classification.py:1731: UndefinedMetricWarning: Recall is ill-defined and being set to 0.0 in labels with no true samples. Use `zero_division` parameter to control this behavior.\n",
      "  _warn_prf(average, modifier, f\"{metric.capitalize()} is\", result.shape[0])\n",
      "C:\\Users\\DELL\\anaconda3\\envs\\myenv\\lib\\site-packages\\sklearn\\metrics\\_classification.py:1731: UndefinedMetricWarning: Precision is ill-defined and being set to 0.0 in labels with no predicted samples. Use `zero_division` parameter to control this behavior.\n",
      "  _warn_prf(average, modifier, f\"{metric.capitalize()} is\", result.shape[0])\n",
      "C:\\Users\\DELL\\anaconda3\\envs\\myenv\\lib\\site-packages\\sklearn\\metrics\\_classification.py:1731: UndefinedMetricWarning: Recall is ill-defined and being set to 0.0 in labels with no true samples. Use `zero_division` parameter to control this behavior.\n",
      "  _warn_prf(average, modifier, f\"{metric.capitalize()} is\", result.shape[0])\n",
      "C:\\Users\\DELL\\anaconda3\\envs\\myenv\\lib\\site-packages\\sklearn\\metrics\\_classification.py:1731: UndefinedMetricWarning: Precision is ill-defined and being set to 0.0 in labels with no predicted samples. Use `zero_division` parameter to control this behavior.\n",
      "  _warn_prf(average, modifier, f\"{metric.capitalize()} is\", result.shape[0])\n",
      "C:\\Users\\DELL\\anaconda3\\envs\\myenv\\lib\\site-packages\\sklearn\\metrics\\_classification.py:1731: UndefinedMetricWarning: Recall is ill-defined and being set to 0.0 in labels with no true samples. Use `zero_division` parameter to control this behavior.\n",
      "  _warn_prf(average, modifier, f\"{metric.capitalize()} is\", result.shape[0])\n"
     ]
    },
    {
     "data": {
      "image/png": "[encoded data removed]",
      "text/plain": [
       "<Figure size 640x480 with 2 Axes>"
      ]
     },
     "metadata": {},
     "output_type": "display_data"
    },
    {
     "name": "stdout",
     "output_type": "stream",
     "text": [
      "\n",
      "--- Emotion Predictions ---\n",
      "Text: I am very happy today → Predicted Emotion: sad\n",
      "Text: This makes me so angry → Predicted Emotion: sad\n",
      "Text: I feel so sad right now → Predicted Emotion: sad\n",
      "Text: That was shocking! → Predicted Emotion: surprise\n",
      "Text: I am scared to go out alone → Predicted Emotion: surprise\n"
     ]
    }
   ],
   "source": [
    "# Step 1: Import Libraries\n",
    "import pandas as pd\n",
    "import numpy as np\n",
    "from sklearn.feature_extraction.text import TfidfVectorizer\n",
    "from sklearn.model_selection import train_test_split\n",
    "from sklearn.linear_model import LogisticRegression\n",
    "from sklearn.metrics import accuracy_score, confusion_matrix, classification_report\n",
    "import seaborn as sns\n",
    "import matplotlib.pyplot as plt\n",
    "\n",
    "# Step 2: Create Dummy Dataset (Text + Emotion Labels)\n",
    "data = {\n",
    "    \"text\": [\n",
    "        \"I am so happy today\", \n",
    "        \"This is the best day ever\",\n",
    "        \"I feel very sad and lonely\",\n",
    "        \"Why is life so depressing\",\n",
    "        \"I am really angry at you\",\n",
    "        \"This makes me furious\",\n",
    "        \"Wow, that’s amazing news!\",\n",
    "        \"Oh my god, I can’t believe it!\",\n",
    "        \"I am so scared of darkness\",\n",
    "        \"This horror movie is terrifying\"\n",
    "    ],\n",
    "    \"emotion\": [\n",
    "        \"happy\", \"happy\",\n",
    "        \"sad\", \"sad\",\n",
    "        \"angry\", \"angry\",\n",
    "        \"surprise\", \"surprise\",\n",
    "        \"fear\", \"fear\"\n",
    "    ]\n",
    "}\n",
    "\n",
    "df = pd.DataFrame(data)\n",
    "print(\"Dataset:\\n\", df)\n",
    "\n",
    "# Step 3: Convert Text → TF-IDF Features\n",
    "vectorizer = TfidfVectorizer()\n",
    "X = vectorizer.fit_transform(df[\"text\"])\n",
    "y = df[\"emotion\"]\n",
    "\n",
    "# Step 4: Train-Test Split\n",
    "X_train, X_test, y_train, y_test = train_test_split(X, y, test_size=0.3, random_state=42)\n",
    "\n",
    "# Step 5: Train Logistic Regression Model\n",
    "model = LogisticRegression(max_iter=1000)\n",
    "model.fit(X_train, y_train)\n",
    "\n",
    "# Step 6: Predictions\n",
    "y_pred = model.predict(X_test)\n",
    "\n",
    "# Step 7: Accuracy & Report\n",
    "print(\"\\nAccuracy:\", accuracy_score(y_test, y_pred))\n",
    "print(\"\\nClassification Report:\\n\", classification_report(y_test, y_pred))\n",
    "\n",
    "# Step 8: Confusion Matrix Visualization\n",
    "cm = confusion_matrix(y_test, y_pred, labels=model.classes_)\n",
    "sns.heatmap(cm, annot=True, fmt=\"d\", cmap=\"Blues\", xticklabels=model.classes_, yticklabels=model.classes_)\n",
    "plt.xlabel(\"Predicted\")\n",
    "plt.ylabel(\"True\")\n",
    "plt.title(\"Confusion Matrix - Emotion Detection\")\n",
    "plt.show()\n",
    "\n",
    "# Step 9: Test with New Sentences\n",
    "test_sentences = [\n",
    "    \"I am very happy today\",\n",
    "    \"This makes me so angry\",\n",
    "    \"I feel so sad right now\",\n",
    "    \"That was shocking!\",\n",
    "    \"I am scared to go out alone\"\n",
    "]\n",
    "\n",
    "X_new = vectorizer.transform(test_sentences)\n",
    "predictions = model.predict(X_new)\n",
    "\n",
    "print(\"\\n--- Emotion Predictions ---\")\n",
    "for text, emotion in zip(test_sentences, predictions):\n",
    "    print(f\"Text: {text} → Predicted Emotion: {emotion}\")\n"
   ]
  },
  {
   "cell_type": "code",
   "execution_count": null,
   "id": "a7aae540-1b37-4fd9-a6d3-3d2182d992a0",
   "metadata": {},
   "outputs": [],
   "source": []
  }
 ],
 "metadata": {
  "kernelspec": {
   "display_name": "Python 3 (ipykernel)",
   "language": "python",
   "name": "python3"
  },
  "language_info": {
   "codemirror_mode": {
    "name": "ipython",
    "version": 3
   },
   "file_extension": ".py",
   "mimetype": "text/x-python",
   "name": "python",
   "nbconvert_exporter": "python",
   "pygments_lexer": "ipython3",
   "version": "3.10.18"
  }
 },
 "nbformat": 4,
 "nbformat_minor": 5
}

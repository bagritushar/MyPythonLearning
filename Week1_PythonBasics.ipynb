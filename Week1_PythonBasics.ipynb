{
 "cells": [
  {
   "cell_type": "markdown",
   "id": "6d266a98-563b-4d86-9770-c4ab0951d0e6",
   "metadata": {},
   "source": [
    "\n",
    "<font color=\"Blue\" size=\"6\">Python Learning 1st Week</font>"
   ]
  },
  {
   "cell_type": "code",
   "execution_count": null,
   "id": "2ff3cb7f-4be1-42a3-b26f-d4d4c9b1eae0",
   "metadata": {},
   "outputs": [],
   "source": [
    "print (\"Hello chlo apni new skill start krte hai.\")"
   ]
  },
  {
   "cell_type": "code",
   "execution_count": null,
   "id": "02381058-ced3-4ca9-9baf-375e57ee39e9",
   "metadata": {},
   "outputs": [],
   "source": [
    "a = 10\n",
    "b = 5\n",
    "print(\"sum=\",a+b)"
   ]
  },
  {
   "cell_type": "code",
   "execution_count": null,
   "id": "ed629cd8-3484-4bef-959b-863c8f0d9842",
   "metadata": {},
   "outputs": [],
   "source": [
    " #variables in python \n",
    "name = \"Tushar\"\n",
    "age = 20\n",
    "Height = 5.8\n",
    "print (\"My name is:\",name )\n",
    "print (\"I am\",age,\"years old.\")\n",
    "print (\"my Height is:\",Height,\"feet.\")\n"
   ]
  },
  {
   "cell_type": "code",
   "execution_count": null,
   "id": "1743214f-cb76-467b-9352-1ef13533fbdd",
   "metadata": {},
   "outputs": [],
   "source": [
    "#basic math operations arithmetic operators \n",
    "a = 10\n",
    "b = 3 \n",
    "print (\"Addition:\",a+b)\n",
    "print (\"Subtraction:\",a-b)\n",
    "print (\"Multipliction:\",a*b)\n",
    "print (\"Division:\",a/b)\n",
    "print (\"Floor Devision:\",a//b)\n",
    "print (\"Power:\",a**b)\n",
    "print (\"Modulo (remainder):\",a%b)       "
   ]
  },
  {
   "cell_type": "code",
   "execution_count": null,
   "id": "e859baab-f972-4def-a7b5-efdc7eea0959",
   "metadata": {},
   "outputs": [],
   "source": [
    "#if-else\n",
    "num = 3\n",
    "if num > 5:\n",
    "    print(\"Number is greater 5 \")\n",
    "else:\n",
    "    print(\"number is smaller 5\")\n",
    "    "
   ]
  },
  {
   "cell_type": "code",
   "execution_count": null,
   "id": "eaa7382e-5a08-43f2-9dc2-b876af7b832d",
   "metadata": {},
   "outputs": [],
   "source": [
    "#next example odd and even \n",
    "num = int(input(\"enter a number: \"))\n",
    "\n",
    "if num % 2 == 0:\n",
    "          print(num,\"is even\")        \n",
    "else:\n",
    "           print(num,\"is odd\")"
   ]
  },
  {
   "cell_type": "code",
   "execution_count": null,
   "id": "8d78c283-1630-4790-8427-65faf52cb2ab",
   "metadata": {},
   "outputs": [],
   "source": [
    "#for loop\n",
    "for i in range (1,6):\n",
    "    print(\"count:\",i)"
   ]
  },
  {
   "cell_type": "code",
   "execution_count": null,
   "id": "a17a6506-d9f6-4879-a30b-230b45c4dada",
   "metadata": {},
   "outputs": [],
   "source": [
    "for i in range (10):\n",
    "    print(\"I'm Tushar \")"
   ]
  },
  {
   "cell_type": "code",
   "execution_count": null,
   "id": "7e873ba4-35f9-4e22-8c9c-b515e4149cd0",
   "metadata": {},
   "outputs": [],
   "source": [
    "#while loop\n",
    "x = 10\n",
    "while x <=20:\n",
    "    print(\"while loop:\",x)\n",
    "    x += 1 # ye x ko har baar 1 se badhata hai."
   ]
  },
  {
   "cell_type": "code",
   "execution_count": null,
   "id": "e86702ce-be48-4e78-84f6-62d801a197ca",
   "metadata": {},
   "outputs": [],
   "source": [
    "#function \n",
    "def greet(name):\n",
    "    print(\"Hello,\",name)\n",
    "    #funtion calls \n",
    "greet(\"Tushar\")\n",
    "greet(\"Python\")\n"
   ]
  },
  {
   "cell_type": "code",
   "execution_count": null,
   "id": "574b9f6d-cbf1-4005-b11c-114caab6609e",
   "metadata": {},
   "outputs": [],
   "source": [
    "del int"
   ]
  },
  {
   "cell_type": "code",
   "execution_count": null,
   "id": "42d06b91-4eb9-4f16-a1f1-2b25ace76ef9",
   "metadata": {},
   "outputs": [],
   "source": [
    "#type casting\n",
    "a = \"2\"\n",
    "b = \"25\"\n",
    "print(int(a)*int(b))"
   ]
  },
  {
   "cell_type": "code",
   "execution_count": null,
   "id": "27faca3f-7095-4e26-a3cc-497cff19011b",
   "metadata": {},
   "outputs": [],
   "source": [
    "#string to int \n",
    "a = \"7\"\n",
    "b = int (a)\n",
    "print(b+3)"
   ]
  },
  {
   "cell_type": "code",
   "execution_count": null,
   "id": "28caa8d3-ea74-4fef-a790-bcf42eb510f4",
   "metadata": {},
   "outputs": [],
   "source": [
    "#Float to int\n",
    "x = 5.9\n",
    "y = int (x)\n",
    "print(y*x)\n"
   ]
  },
  {
   "cell_type": "code",
   "execution_count": null,
   "id": "1d5e55ff-318c-451f-97b4-a67aec7ad557",
   "metadata": {},
   "outputs": [],
   "source": [
    "#int to float \n",
    "a = 8\n",
    "y = float(a)\n",
    "print(y+a)"
   ]
  },
  {
   "cell_type": "code",
   "execution_count": null,
   "id": "faa65505-dc29-45e4-860c-8e60be1d137f",
   "metadata": {},
   "outputs": [],
   "source": [
    "#int to string\n",
    "num = 10 \n",
    "text = str(num)\n",
    "print(\"number is : \" + text)"
   ]
  },
  {
   "cell_type": "code",
   "execution_count": null,
   "id": "76c67683-1731-4778-8385-9e98285c248f",
   "metadata": {},
   "outputs": [],
   "source": [
    "#any to  bool\n",
    "print(bool(-5))\n",
    "print(bool(5))\n",
    "print(bool(\"\"))\n",
    "print(bool(\"hi\"))\n"
   ]
  },
  {
   "cell_type": "code",
   "execution_count": null,
   "id": "9b82becc-2c7d-4f55-a3ca-eec05e49057c",
   "metadata": {},
   "outputs": [],
   "source": [
    "# qus\n",
    "#find square of a num\n",
    "num = int(input(\"enter a number:\"))\n",
    "print(\"square=\",num*num)"
   ]
  },
  {
   "cell_type": "code",
   "execution_count": null,
   "id": "4eeedd50-4481-478e-85c7-48e0b43fbc3c",
   "metadata": {},
   "outputs": [],
   "source": [
    "#find cube of a num\n",
    "num = int(input(\"enter a number:\"))\n",
    "print(\"cube=\",num*num*num)"
   ]
  },
  {
   "cell_type": "code",
   "execution_count": null,
   "id": "75dad10c-ea5f-47b0-97b3-7e24f779d58d",
   "metadata": {},
   "outputs": [],
   "source": [
    "#greet user \n",
    "name= input(\"enter your name:\")\n",
    "print(\"welcome\",name)\n"
   ]
  },
  {
   "cell_type": "code",
   "execution_count": null,
   "id": "1a213048-c071-4f45-807f-0b226800863a",
   "metadata": {},
   "outputs": [],
   "source": [
    "a = float(input(\"enter first number:\"))\n",
    "b = float(input(\"enter second number:\"))\n",
    "c = float(input(\"enter third number:\"))\n",
    "average = (a+b+c)/3\n",
    "highest = max(a,b,c)\n",
    "print(\"average of three number is:\",average)\n",
    "print(\"highest number is=\",highest)"
   ]
  },
  {
   "cell_type": "code",
   "execution_count": null,
   "id": "fbf1afca-8464-4bd9-9a94-34cad7c1d10a",
   "metadata": {},
   "outputs": [],
   "source": [
    "name = \"Tushar\" \n",
    "age = 22\n",
    "print(\"my name is\",name)\n",
    "print(\"i am\",age,\"years old\")"
   ]
  },
  {
   "cell_type": "code",
   "execution_count": null,
   "id": "8e680b50-137c-4246-97ce-464f8b13553a",
   "metadata": {},
   "outputs": [],
   "source": [
    "celsius = float(input(\"enter temperature in celcuis:\"))\n",
    "fahrenheit = (celsius*9/5)+32\n",
    "print(\"temperature:\",fahrenheit)"
   ]
  },
  {
   "cell_type": "code",
   "execution_count": null,
   "id": "7184699b-3000-4d0d-98f7-52a8b0ba2789",
   "metadata": {},
   "outputs": [],
   "source": [
    "#comparison operators\n",
    "print(a > b )\n",
    "print(a == )\n",
    "# ture or false \n",
    "print(True and False) #False\\\n",
    "print(true or false) #True\n",
    "print(not true) #false"
   ]
  },
  {
   "cell_type": "code",
   "execution_count": null,
   "id": "2f275067-40ab-4f21-bd34-882b0c312fd2",
   "metadata": {},
   "outputs": [],
   "source": [
    "x = int(input(\"Enter first number:\"))\n",
    "y = int(input(\"Enter second number:\"))\n",
    "if x == y:\n",
    "    print(\"Both number are equal.\")\n",
    "else:\n",
    "    print(\"numbers are not equal.\") "
   ]
  },
  {
   "cell_type": "code",
   "execution_count": null,
   "id": "40f47a2b-b846-4c07-b503-53cb7fa0072d",
   "metadata": {},
   "outputs": [],
   "source": [
    "#if,elif,else(Decision Making)"
   ]
  },
  {
   "cell_type": "code",
   "execution_count": null,
   "id": "fc583908-ec54-4dcb-b1cc-6511fa25f024",
   "metadata": {},
   "outputs": [],
   "source": [
    "x = int(input(\"Enter a number:\"))\n",
    "if x>0:\n",
    "    print(\"Positive Number\")\n",
    "elif x<0:\n",
    "    print(\"Nagative number\")\n",
    "else:\n",
    "    print(\"Zero\")\n",
    "    "
   ]
  },
  {
   "cell_type": "code",
   "execution_count": null,
   "id": "9ba2e804-3561-44ff-9716-745e3f40f0f6",
   "metadata": {},
   "outputs": [],
   "source": [
    "#wap to check if number is even or odd.\n",
    "n = int(input(\"Enter a number:\"))\n",
    "if n % 2 == 0:\n",
    "    print(\"even number\")\n",
    "else:\n",
    "    print(\"odd number\")\n"
   ]
  },
  {
   "cell_type": "code",
   "execution_count": null,
   "id": "c2c3fad0-4f7b-4d31-8adb-df14ea064834",
   "metadata": {},
   "outputs": [],
   "source": [
    "# for loop code ex\n",
    "n = int(input(\"Enter a number:\"))\n",
    "for i in range(1,11):\n",
    "    print(n, \"*\", i , \"=\" , n*i)"
   ]
  },
  {
   "cell_type": "code",
   "execution_count": null,
   "id": "ffaa9742-5071-4e62-b205-50787a4038af",
   "metadata": {},
   "outputs": [],
   "source": [
    "# 5 pattern printing ( like *, triangle)\n",
    "for i in range (5):\n",
    "    print(\"*\",end= \" \")"
   ]
  },
  {
   "cell_type": "code",
   "execution_count": null,
   "id": "d24e40c2-738f-421a-b9c7-faa9c47c640c",
   "metadata": {},
   "outputs": [],
   "source": [
    "#square pattern \n",
    "n = int(input(\"Enter length of Square:\"))\n",
    "m = in\n",
    "for i in range(n):\n",
    "    for j in range(n):\n",
    "        print(\"*\" , end= \" \")\n",
    "    print()\n",
    "        "
   ]
  },
  {
   "cell_type": "code",
   "execution_count": null,
   "id": "09d4344a-e538-477e-ab4b-d0f1810f8f4b",
   "metadata": {},
   "outputs": [],
   "source": [
    "#sequre pattern \n",
    "for i in range(4):\n",
    "    for j in range(4):\n",
    "        print(\"*\",end= \" \")\n",
    "    print()"
   ]
  },
  {
   "cell_type": "code",
   "execution_count": null,
   "id": "8c92ecd2-c899-42d6-808e-0fa82b518ded",
   "metadata": {},
   "outputs": [],
   "source": [
    "#Pattern 1: Right-angled triange\n"
   ]
  },
  {
   "cell_type": "code",
   "execution_count": null,
   "id": "17b4801f-7c58-4639-9b1e-08c1f524fe2f",
   "metadata": {
    "scrolled": true
   },
   "outputs": [],
   "source": [
    "for i in range(1, 5):\n",
    "    for j in range(i):\n",
    "        print(\"*\", end=\" \")\n",
    "    print()\n"
   ]
  },
  {
   "cell_type": "code",
   "execution_count": null,
   "id": "3b08732a-cbe1-4b4e-8f4a-88ab99061f25",
   "metadata": {},
   "outputs": [],
   "source": [
    "# Pattern 2: Inverted right triangle\n",
    "for i in range(4, 0, -1):\n",
    "    for j in range(i):\n",
    "        print(\"*\", end=\" \")\n",
    "    print()\n"
   ]
  },
  {
   "cell_type": "code",
   "execution_count": null,
   "id": "6c029336-1a45-4ae3-9f80-013a9afeb41a",
   "metadata": {},
   "outputs": [],
   "source": [
    "#Pattern 3: Pyramid (centered)\n",
    "n = 4\n",
    "for i in range(1, n+1):\n",
    "    print(\" \" * (n - i), end=\"\")\n",
    "    print(\"* \" * i)\n"
   ]
  },
  {
   "cell_type": "code",
   "execution_count": null,
   "id": "9f2bc9b2-0630-4b7a-9014-ac4d2f4cf50a",
   "metadata": {},
   "outputs": [],
   "source": [
    "#Pattern 4: Diamond shape\n",
    "n = 4\n",
    "for i in range(1, n+1):\n",
    "    print(\" \" * (n - i), end=\"\")\n",
    "    print(\"* \" * i)\n",
    "for i in range(n+25, 0, -10):\n",
    "    print(\" \" * (n - i), end=\"\")\n",
    "    print(\"* \" * i)\n",
    "\n"
   ]
  },
  {
   "cell_type": "code",
   "execution_count": null,
   "id": "f5865ef2-ee30-4fa9-b2c3-4add755def0b",
   "metadata": {},
   "outputs": [],
   "source": [
    "# Pattern 5: Number triangle\n",
    "for i in range(1, 5):\n",
    "    for j in range(1, i+1):\n",
    "        print(j, end=\" \")\n",
    "    print()\n"
   ]
  },
  {
   "cell_type": "code",
   "execution_count": null,
   "id": "1aecabaa-5955-432d-80d5-97062162f97e",
   "metadata": {},
   "outputs": [],
   "source": [
    "a = 5\n",
    "b = 2\n",
    "\n",
    "print(a == b)  # False\n",
    "print(a != b)  # True\n",
    "print(a > b)   # True\n",
    "print(a < b)   # False\n",
    "print(a >= b)  # True\n",
    "print(a <= b)  # False\n",
    "while True:\n",
    "    num1 = float(input(\"Enter first number: \"))\n",
    "    num2 = float(input(\"Enter second number: \"))\n",
    "    op = input(\"Enter operator (+, -, *, /): \")\n",
    "\n",
    "    if op == '+':\n",
    "        print(\"Result:\", num1 + num2)\n",
    "    elif op == '-':\n",
    "        print(\"Result:\", num1 - num2)\n",
    "    elif op == '*':\n",
    "        print(\"Result:\", num1 * num2)\n",
    "    elif op == '/':\n",
    "        if num2 != 0:\n",
    "            print(\"Result:\", num1 / num2)\n",
    "        else:\n",
    "            print(\"Cannot divide by zero!\")\n",
    "    else:\n",
    "        print(\"Invalid operator\")\n",
    "\n",
    "    # repeat or exit\n",
    "    choice = input(\"Do you want to continue? (yes/no): \")\n",
    "    if choice.lower() != \"yes\":\n",
    "        break\n"
   ]
  },
  {
   "cell_type": "code",
   "execution_count": null,
   "id": "48d53f18-a51c-4a48-937f-546a0c9b3585",
   "metadata": {},
   "outputs": [],
   "source": [
    "while true\n",
    "\n"
   ]
  },
  {
   "cell_type": "code",
   "execution_count": null,
   "id": "c541c07b-4721-4bee-a0a6-999c8af4ba8f",
   "metadata": {},
   "outputs": [],
   "source": [
    "num1 = float(input(\"enter first number\"))\n",
    "num2 = float(input(\"enter second number\"))\n",
    "op = input(\"enter operator(+,-,*,/):\")\n",
    "if op == \"+\":\n",
    "    sum = num1+num2\n",
    "    print(\"result:\",sum)\n",
    "elif op == \"-\":\n",
    "    sub = num1-num2\n",
    "    print(\"result:\",sub)\n",
    "elif op == \"*\":\n",
    "    mul = num1*num2\n",
    "    print(\"result:\",mul)\n",
    "elif op == \"/\":\n",
    "    div = num1/num2\n",
    "    print(\"result:\",div)\n",
    "else:\n",
    "    print(\"invalid operator\")"
   ]
  },
  {
   "cell_type": "code",
   "execution_count": null,
   "id": "4a27a77b-8661-460f-9898-085b4d971174",
   "metadata": {},
   "outputs": [],
   "source": [
    "num1 = float(input(\"Enter first number:\"))\n",
    "num2 = float(input(\"Enter Second number:\"))\n",
    "op = input(\"Enter operator(+,-,*,/,):\")\n",
    "  if op==\"+\":\n",
    "     print(\"Result:\",num1+num2)\n",
    "  elif op==\"-\":\n",
    "     print(\"Result:\",num1-num2)\n",
    "  elif op==\"*\":\n",
    "     print(\"Result:\",num1*num2)\n",
    "  elif op==\"/\":\n",
    "      if num2 != 0:\n",
    "         print(\"Result:\",num1/num2)\n",
    "      else:  \n",
    "         print(\"cannot divide by zero!\")\n",
    "      else:\n",
    "        print(\"invaild operator\")\n",
    "\n",
    "\n",
    "\n",
    "\n"
   ]
  },
  {
   "cell_type": "code",
   "execution_count": null,
   "id": "6b64e09b-7ae6-49a0-bcb4-48afc40773fe",
   "metadata": {},
   "outputs": [],
   "source": [
    "from tkinter import *\n",
    "\n",
    "root = Tk()\n",
    "root.title(\"Simple Calculator\")\n",
    "\n",
    "entry = Entry(root, width=35, borderwidth=5)\n",
    "entry.grid(row=0, column=0, columnspan=4)\n",
    "\n",
    "def button_click(number):\n",
    "    current = entry.get()\n",
    "    entry.delete(0, END)\n",
    "    entry.insert(0, current + str(number))\n",
    "\n",
    "def button_clear():\n",
    "    entry.delete(0, END)\n",
    "\n",
    "def button_add():\n",
    "    global f_num\n",
    "    global math\n",
    "    math = \"addition\"\n",
    "    f_num = float(entry.get())\n",
    "    entry.delete(0, END)\n",
    "\n",
    "def button_equal():\n",
    "    second_number = float(entry.get())\n",
    "    entry.delete(0, END)\n",
    "\n",
    "    if math == \"addition\":\n",
    "        entry.insert(0, f_num + second_number)\n",
    "\n",
    "button_1 = Button(root, text=\"1\", padx=40, pady=20, command=lambda: button_click(1))\n",
    "button_2 = Button(root, text=\"2\", padx=40, pady=20, command=lambda: button_click(2))\n",
    "button_3 = Button(root, text=\"3\", padx=40, pady=20, command=lambda: button_click(3))\n",
    "button_4 = Button(root, text=\"4\", padx=40, pady=20, command=lambda: button_click(4))\n",
    "button_5 = Button(root, text=\"5\", padx=40, pady=20, command=lambda: button_click(5))\n",
    "button_6 = Button(root, text=\"6\", padx=40, pady=20, command=lambda: button_click(6))\n",
    "button_7 = Button(root, text=\"7\", padx=40, pady=20, command=lambda: button_click(7))\n",
    "button_8 = Button(root, text=\"8\", padx=40, pady=20, command=lambda: button_click(8))\n",
    "button_9 = Button(root, text=\"9\", padx=40, pady=20, command=lambda: button_click(9))\n",
    "button_0 = Button(root, text=\"0\", padx=40, pady=20, command=lambda: button_click(0))\n",
    "\n",
    "button_add = Button(root, text=\"+\", padx=39, pady=20, command=button_add)\n",
    "button_equal = Button(root, text=\"=\", padx=91, pady=20, command=button_equal)\n",
    "button_clear = Button(root, text=\"Clear\", padx=79, pady=20, command=button_clear)\n",
    "\n",
    "button_1.grid(row=3, column=0)\n",
    "button_2.grid(row=3, column=1)\n",
    "button_3.grid(row=3, column=2)\n",
    "\n",
    "button_4.grid(row=2, column=0)\n",
    "button_5.grid(row=2, column=1)\n",
    "button_6.grid(row=2, column=2)\n",
    "\n",
    "button_7.grid(row=1, column=0)\n",
    "button_8.grid(row=1, column=1)\n",
    "button_9.grid(row=1, column=2)\n",
    "\n",
    "button_0.grid(row=4, column=0)\n",
    "\n",
    "button_clear.grid(row=4, column=1, columnspan=2)\n",
    "button_add.grid(row=5, column=0)\n",
    "button_equal.grid(row=5, column=1, columnspan=2)\n",
    "\n",
    "root.mainloop()\n"
   ]
  },
  {
   "cell_type": "code",
   "execution_count": null,
   "id": "4a6f7478-2a49-4af6-adc0-ba22365fab33",
   "metadata": {},
   "outputs": [],
   "source": [
    "#gui Calculator\n",
    "from tkinter import *\n",
    "\n",
    "root = Tk()\n",
    "root.title(\"My Pro Calculator\")\n",
    "\n",
    "entry = Entry(root, width=35, borderwidth=5)\n",
    "entry.grid(row=0, column=0, columnspan=4)\n",
    "\n",
    "def button_click(number):\n",
    "    current = entry.get()\n",
    "    entry.delete(0, END)\n",
    "    entry.insert(0, current + str(number))\n",
    "\n",
    "def button_clear():\n",
    "    entry.delete(0, END)\n",
    "\n",
    "def button_add():\n",
    "    global f_num\n",
    "    global math\n",
    "    math = \"addition\"\n",
    "    f_num = float(entry.get())\n",
    "    entry.delete(0, END)\n",
    "\n",
    "def button_subtract():\n",
    "    global f_num\n",
    "    global math\n",
    "    math = \"subtraction\"\n",
    "    f_num = float(entry.get())\n",
    "    entry.delete(0, END)\n",
    "\n",
    "def button_multiply():\n",
    "    global f_num\n",
    "    global math\n",
    "    math = \"multiplication\"\n",
    "    f_num = float(entry.get())\n",
    "    entry.delete(0, END)\n",
    "\n",
    "def button_divide():\n",
    "    global f_num\n",
    "    global math\n",
    "    math = \"division\"\n",
    "    f_num = float(entry.get())\n",
    "    entry.delete(0, END)\n",
    "\n",
    "def button_equal():\n",
    "    second_number = float(entry.get())\n",
    "    entry.delete(0, END)\n",
    "\n",
    "    if math == \"addition\":\n",
    "        entry.insert(0, f_num + second_number)\n",
    "    elif math == \"subtraction\":\n",
    "        entry.insert(0, f_num - second_number)\n",
    "    elif math == \"multiplication\":\n",
    "        entry.insert(0, f_num * second_number)\n",
    "    elif math == \"division\":\n",
    "        if second_number != 0:\n",
    "            entry.insert(0, f_num / second_number)\n",
    "        else:\n",
    "            entry.insert(0, \"Error: Div by 0\")\n",
    "\n",
    "# Buttons\n",
    "button_1 = Button(root, text=\"1\", padx=40, pady=20, command=lambda: button_click(1))\n",
    "button_2 = Button(root, text=\"2\", padx=40, pady=20, command=lambda: button_click(2))\n",
    "button_3 = Button(root, text=\"3\", padx=40, pady=20, command=lambda: button_click(3))\n",
    "button_4 = Button(root, text=\"4\", padx=40, pady=20, command=lambda: button_click(4))\n",
    "button_5 = Button(root, text=\"5\", padx=40, pady=20, command=lambda: button_click(5))\n",
    "button_6 = Button(root, text=\"6\", padx=40, pady=20, command=lambda: button_click(6))\n",
    "button_7 = Button(root, text=\"7\", padx=40, pady=20, command=lambda: button_click(7))\n",
    "button_8 = Button(root, text=\"8\", padx=40, pady=20, command=lambda: button_click(8))\n",
    "button_9 = Button(root, text=\"9\", padx=40, pady=20, command=lambda: button_click(9))\n",
    "button_0 = Button(root, text=\"0\", padx=40, pady=20, command=lambda: button_click(0))\n",
    "\n",
    "button_add = Button(root, text=\"+\", padx=39, pady=20, command=button_add)\n",
    "button_subtract = Button(root, text=\"-\", padx=41, pady=20, command=button_subtract)\n",
    "button_multiply = Button(root, text=\"*\", padx=40, pady=20, command=button_multiply)\n",
    "button_divide = Button(root, text=\"/\", padx=41, pady=20, command=button_divide)\n",
    "\n",
    "button_equal = Button(root, text=\"=\", padx=91, pady=20, command=button_equal)\n",
    "button_clear = Button(root, text=\"Clear\", padx=79, pady=20, command=button_clear)\n",
    "\n",
    "# Grid layout\n",
    "button_1.grid(row=3, column=0)\n",
    "button_2.grid(row=3, column=1)\n",
    "button_3.grid(row=3, column=2)\n",
    "\n",
    "button_4.grid(row=2, column=0)\n",
    "button_5.grid(row=2, column=1)\n",
    "button_6.grid(row=2, column=2)\n",
    "\n",
    "button_7.grid(row=1, column=0)\n",
    "button_8.grid(row=1, column=1)\n",
    "button_9.grid(row=1, column=2)\n",
    "\n",
    "button_0.grid(row=4, column=0)\n",
    "\n",
    "button_clear.grid(row=4, column=1, columnspan=2)\n",
    "button_add.grid(row=5, column=0)\n",
    "button_subtract.grid(row=5, column=1)\n",
    "button_multiply.grid(row=5, column=2)\n",
    "button_divide.grid(row=6, column=0)\n",
    "button_equal.grid(row=6, column=1, columnspan=2)\n",
    "\n",
    "root.mainloop()\n"
   ]
  },
  {
   "cell_type": "code",
   "execution_count": null,
   "id": "8598236f-fad8-4853-b076-b41d78736050",
   "metadata": {},
   "outputs": [],
   "source": []
  }
 ],
 "metadata": {
  "kernelspec": {
   "display_name": "Python 3 (ipykernel)",
   "language": "python",
   "name": "python3"
  },
  "language_info": {
   "codemirror_mode": {
    "name": "ipython",
    "version": 3
   },
   "file_extension": ".py",
   "mimetype": "text/x-python",
   "name": "python",
   "nbconvert_exporter": "python",
   "pygments_lexer": "ipython3",
   "version": "3.10.18"
  }
 },
 "nbformat": 4,
 "nbformat_minor": 5
}

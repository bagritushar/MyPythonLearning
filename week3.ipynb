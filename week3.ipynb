{
 "cells": [
  {
   "cell_type": "markdown",
   "id": "91f54f54-6adf-4a5d-bf17-8ae44e49f50e",
   "metadata": {},
   "source": [
    "<font color=\"Blue\" size=\"6\">Python Learning 3rd Week</font>"
   ]
  },
  {
   "cell_type": "markdown",
   "id": "ecc43c6f-9c4c-4c4c-ae66-49f72bf940fa",
   "metadata": {},
   "source": [
    "Week 3 – Object Oriented Programming (OOP) in Python"
   ]
  },
  {
   "cell_type": "markdown",
   "id": "841df1ac-6026-4e27-968a-211f2abfde68",
   "metadata": {},
   "source": [
    "#Classes and Objects"
   ]
  },
  {
   "cell_type": "code",
   "execution_count": 3,
   "id": "e1151b12-43b8-4b64-b650-7564368eebc5",
   "metadata": {},
   "outputs": [
    {
     "name": "stdout",
     "output_type": "stream",
     "text": [
      "Toyota Corolla\n",
      "Tesla Model 3\n"
     ]
    }
   ],
   "source": [
    "# Defining a simple class\n",
    "class Car:\n",
    "    def __init__(self, brand, model):\n",
    "        self.brand = brand\n",
    "        self.model = model\n",
    "\n",
    "# Creating objects\n",
    "car1 = Car(\"Toyota\", \"Corolla\")\n",
    "car2 = Car(\"Tesla\", \"Model 3\")\n",
    "\n",
    "print(car1.brand, car1.model)\n",
    "print(car2.brand, car2.model)\n"
   ]
  },
  {
   "cell_type": "markdown",
   "id": "f5be9aaa-cd54-4f73-bc23-367c4d94bc18",
   "metadata": {},
   "source": []
  },
  {
   "cell_type": "markdown",
   "id": "ada05ca2-d6db-41c3-87af-d0a10f67a56b",
   "metadata": {},
   "source": [
    "#Constructor (__init__)"
   ]
  },
  {
   "cell_type": "code",
   "execution_count": 6,
   "id": "04c23949-d999-4fa3-910c-b01df3e7d6de",
   "metadata": {},
   "outputs": [
    {
     "name": "stdout",
     "output_type": "stream",
     "text": [
      "Name: Tushar, Roll: 121\n"
     ]
    }
   ],
   "source": [
    "class Student:\n",
    "    def __init__(self, name, roll):\n",
    "        self.name = name\n",
    "        self.roll = roll\n",
    "    \n",
    "    def display(self):\n",
    "        print(f\"Name: {self.name}, Roll: {self.roll}\")\n",
    "\n",
    "s1 = Student(\"Tushar\", 121)\n",
    "s1.display()\n"
   ]
  },
  {
   "cell_type": "code",
   "execution_count": null,
   "id": "3d4adfa5-9d45-4ef3-8763-7c8881bf541f",
   "metadata": {},
   "outputs": [],
   "source": []
  },
  {
   "cell_type": "markdown",
   "id": "2e3c0e0a-9ed2-47c0-b6bb-648e0c6656c8",
   "metadata": {},
   "source": [
    "#Instance, Class, and Static Methods"
   ]
  },
  {
   "cell_type": "code",
   "execution_count": 17,
   "id": "aa0126d5-85d2-4413-a402-30c6dd5bea38",
   "metadata": {},
   "outputs": [
    {
     "name": "stdout",
     "output_type": "stream",
     "text": [
      "Name: Tushar, Marks: 90\n",
      "School: ABC School\n",
      "Welcome to Python OOP learning!\n"
     ]
    }
   ],
   "source": [
    "class Student:\n",
    "    # class variable\n",
    "    school_name = \"ABC School\"\n",
    "\n",
    "    def __init__(self, name, marks):\n",
    "        self.name = name      # instance variable\n",
    "        self.marks = marks\n",
    "\n",
    "    # Instance Method (works with self)\n",
    "    def display_info(self):\n",
    "        return f\"Name: {self.name}, Marks: {self.marks}\"\n",
    "\n",
    "    # Class Method (works with class variables)\n",
    "    @classmethod\n",
    "    def get_school_name(cls):\n",
    "        return f\"School: {cls.school_name}\"\n",
    "\n",
    "    # Static Method (general utility, no self/cls needed)\n",
    "    @staticmethod\n",
    "    def welcome_message():\n",
    "        return \"Welcome to Python OOP learning!\"\n",
    "\n",
    "# Usage\n",
    "s1 = Student(\"Tushar\", 90)\n",
    "\n",
    "print(s1.display_info())        # Instance method\n",
    "print(Student.get_school_name()) # Class method\n",
    "print(Student.welcome_message()) # Static method\n"
   ]
  },
  {
   "cell_type": "markdown",
   "id": "8d5d1b19-91ce-4005-9576-a2647e28d43d",
   "metadata": {},
   "source": [
    "Explanation:\n",
    "\n",
    "Instance method → object ke data (self) ke liye use hota hai.\n",
    "\n",
    "Class method → class-level variables ke liye.\n",
    "\n",
    "Static method → normal function jaisa hota hai, object/class dono se call ho sakta hai."
   ]
  },
  {
   "cell_type": "code",
   "execution_count": null,
   "id": "33c2858d-e258-4e77-8ef6-254d796a3200",
   "metadata": {},
   "outputs": [],
   "source": []
  },
  {
   "cell_type": "markdown",
   "id": "24186ab7-f525-4a6d-bca9-c18d3c5990bd",
   "metadata": {},
   "source": [
    "#Inheritance"
   ]
  },
  {
   "cell_type": "code",
   "execution_count": 8,
   "id": "763a1b5b-f711-48d1-82fe-af5b0f05fd8a",
   "metadata": {},
   "outputs": [
    {
     "name": "stdout",
     "output_type": "stream",
     "text": [
      "Bark! 🐶\n"
     ]
    }
   ],
   "source": [
    "class Animal:\n",
    "    def speak(self):\n",
    "        print(\"This is an animal\")\n",
    "\n",
    "class Dog(Animal):\n",
    "    def speak(self):\n",
    "        print(\"Bark! 🐶\")\n",
    "\n",
    "dog = Dog()\n",
    "dog.speak()\n"
   ]
  },
  {
   "cell_type": "code",
   "execution_count": null,
   "id": "fa062fcd-022c-4f9f-8099-9dd8e95f3729",
   "metadata": {},
   "outputs": [],
   "source": []
  },
  {
   "cell_type": "markdown",
   "id": "aee8dd1f-0c22-412a-ac3e-6797a6f42201",
   "metadata": {},
   "source": [
    "#Inheritance (Single, Multiple, Multilevel)"
   ]
  },
  {
   "cell_type": "code",
   "execution_count": 18,
   "id": "74655060-b108-4d51-a7e9-472113d98dd2",
   "metadata": {},
   "outputs": [
    {
     "name": "stdout",
     "output_type": "stream",
     "text": [
      "I am Parent class\n",
      "I am Child class\n"
     ]
    }
   ],
   "source": [
    "#Single Inheritance\n",
    "\n",
    "class Parent:\n",
    "    def speak(self):\n",
    "        return \"I am Parent class\"\n",
    "\n",
    "class Child(Parent):\n",
    "    def play(self):\n",
    "        return \"I am Child class\"\n",
    "\n",
    "c = Child()\n",
    "print(c.speak())  # from Parent\n",
    "print(c.play())   # from Child\n"
   ]
  },
  {
   "cell_type": "code",
   "execution_count": 19,
   "id": "9f68bac8-e398-46b9-9cb5-11a8649a46c8",
   "metadata": {},
   "outputs": [
    {
     "name": "stdout",
     "output_type": "stream",
     "text": [
      "I know driving\n",
      "I love cooking\n",
      "I play guitar\n"
     ]
    }
   ],
   "source": [
    "#Multiple Inheritance\n",
    "\n",
    "\n",
    "class Father:\n",
    "    def skill(self):\n",
    "        return \"I know driving\"\n",
    "\n",
    "class Mother:\n",
    "    def hobby(self):\n",
    "        return \"I love cooking\"\n",
    "\n",
    "class Child(Father, Mother):\n",
    "    def talent(self):\n",
    "        return \"I play guitar\"\n",
    "\n",
    "c = Child()\n",
    "print(c.skill())   # from Father\n",
    "print(c.hobby())   # from Mother\n",
    "print(c.talent())  # from Child"
   ]
  },
  {
   "cell_type": "code",
   "execution_count": null,
   "id": "492a208b-28d8-4447-a711-beb7edd363a1",
   "metadata": {},
   "outputs": [],
   "source": []
  },
  {
   "cell_type": "code",
   "execution_count": 20,
   "id": "d67c0aef-0ea2-4245-b728-4b858a9ab160",
   "metadata": {},
   "outputs": [
    {
     "name": "stdout",
     "output_type": "stream",
     "text": [
      "I have land\n",
      "I have a house\n",
      "I have a car\n"
     ]
    }
   ],
   "source": [
    "#Multilevel Inheritance\n",
    "\n",
    "\n",
    "class Grandfather:\n",
    "    def land(self):\n",
    "        return \"I have land\"\n",
    "\n",
    "class Father(Grandfather):\n",
    "    def house(self):\n",
    "        return \"I have a house\"\n",
    "\n",
    "class Son(Father):\n",
    "    def car(self):\n",
    "        return \"I have a car\"\n",
    "\n",
    "s = Son()\n",
    "print(s.land())   # from Grandfather\n",
    "print(s.house())  # from Father\n",
    "print(s.car())    # from Son"
   ]
  },
  {
   "cell_type": "code",
   "execution_count": null,
   "id": "9faa9fb4-b361-4f90-a9b3-6bf6c4807ce6",
   "metadata": {},
   "outputs": [],
   "source": []
  },
  {
   "cell_type": "code",
   "execution_count": null,
   "id": "3c67cdde-bd11-4ab1-88b0-3ed5c565997d",
   "metadata": {},
   "outputs": [],
   "source": []
  },
  {
   "cell_type": "code",
   "execution_count": null,
   "id": "af01cfb1-74fc-42b5-a4a1-5132226def29",
   "metadata": {},
   "outputs": [],
   "source": []
  },
  {
   "cell_type": "code",
   "execution_count": null,
   "id": "79e956e1-fb58-4013-be92-9bc7b53df3aa",
   "metadata": {},
   "outputs": [],
   "source": []
  },
  {
   "cell_type": "code",
   "execution_count": null,
   "id": "60612d39-124b-4660-9e3e-c29cf0771dc6",
   "metadata": {},
   "outputs": [],
   "source": []
  },
  {
   "cell_type": "markdown",
   "id": "d022c069-0d8c-45c2-987e-96b8a3a36d7d",
   "metadata": {},
   "source": [
    "#Inheritance"
   ]
  },
  {
   "cell_type": "code",
   "execution_count": null,
   "id": "47418ef2-68b2-40d0-91d0-b4042911d4e9",
   "metadata": {},
   "outputs": [],
   "source": []
  },
  {
   "cell_type": "markdown",
   "id": "4ffa057b-f68b-408b-bfe7-2c09f6fe5287",
   "metadata": {},
   "source": [
    "#Encapsulation"
   ]
  },
  {
   "cell_type": "code",
   "execution_count": 9,
   "id": "1a33aa91-96bd-4fd0-840d-11f560971151",
   "metadata": {},
   "outputs": [
    {
     "name": "stdout",
     "output_type": "stream",
     "text": [
      "Balance: 1500\n"
     ]
    }
   ],
   "source": [
    "class BankAccount:\n",
    "    def __init__(self, balance):\n",
    "        self.__balance = balance   # private variable\n",
    "    \n",
    "    def deposit(self, amount):\n",
    "        self.__balance += amount\n",
    "    \n",
    "    def get_balance(self):\n",
    "        return self.__balance\n",
    "\n",
    "acc = BankAccount(1000)\n",
    "acc.deposit(500)\n",
    "print(\"Balance:\", acc.get_balance())\n"
   ]
  },
  {
   "cell_type": "markdown",
   "id": "8b3146d9-706b-489c-b2a9-a4037e5161b7",
   "metadata": {},
   "source": [
    "#Polymorphism"
   ]
  },
  {
   "cell_type": "code",
   "execution_count": 11,
   "id": "7d9dfe54-23a4-4ea5-9a45-7f14cfe2ef04",
   "metadata": {},
   "outputs": [
    {
     "name": "stdout",
     "output_type": "stream",
     "text": [
      "Sparrow flies fast\n",
      "Ostriches cannot fly\n"
     ]
    }
   ],
   "source": [
    "class Bird:\n",
    "    def fly(self):\n",
    "        print(\"Some birds can fly\")\n",
    "        \n",
    "class Sparrow(Bird):\n",
    "    def fly(self):\n",
    "        print(\"Sparrow flies fast\")\n",
    "\n",
    "class Ostrich(Bird):\n",
    "    def fly(self):\n",
    "        print(\"Ostriches cannot fly\")\n",
    "\n",
    "for bird in [Sparrow(), Ostrich()]:\n",
    "    bird.fly()\n"
   ]
  },
  {
   "cell_type": "code",
   "execution_count": null,
   "id": "433cb869-05ea-453d-ba4c-eaf2253bbe37",
   "metadata": {},
   "outputs": [],
   "source": []
  },
  {
   "cell_type": "markdown",
   "id": "788ea049-608f-4317-8599-41e060106b23",
   "metadata": {},
   "source": [
    "#Practice Set\n",
    "\n",
    "1. Student Management System – Create Student class with name, roll, marks. Add method to calculate grade.\n",
    "\n",
    "2. Bank Account Class – Deposit, Withdraw, Check Balance. Add rule: balance cannot go negative."
   ]
  },
  {
   "cell_type": "code",
   "execution_count": 14,
   "id": "d7d734a8-91e7-46bb-8458-da894210bfd1",
   "metadata": {},
   "outputs": [
    {
     "name": "stdout",
     "output_type": "stream",
     "text": [
      "Name: Tushar\n",
      "Roll No: 101\n",
      "Marks: 88\n",
      "Grade: A\n"
     ]
    }
   ],
   "source": [
    "#Student Management System – Create Student class with name, roll, marks. Add method to calculate grade.\n",
    "\n",
    "\n",
    "              # Student Management Class\n",
    "\n",
    "class Student:\n",
    "    def __init__(self, name, roll_no, marks):\n",
    "        self.name = name\n",
    "        self.roll_no = roll_no\n",
    "        self.marks = marks\n",
    "\n",
    "    def display_info(self):\n",
    "        print(f\"Name: {self.name}\")\n",
    "        print(f\"Roll No: {self.roll_no}\")\n",
    "        print(f\"Marks: {self.marks}\")\n",
    "\n",
    "    def calculate_grade(self):\n",
    "        if self.marks >= 90:\n",
    "            return \"A+\"\n",
    "        elif self.marks >= 75:\n",
    "            return \"A\"\n",
    "        elif self.marks >= 60:\n",
    "            return \"B\"\n",
    "        elif self.marks >= 40:\n",
    "            return \"C\"\n",
    "        else:\n",
    "            return \"Fail\"\n",
    "\n",
    "# Example usage\n",
    "student1 = Student(\"Tushar\", 101, 88)\n",
    "student1.display_info()\n",
    "print(\"Grade:\", student1.calculate_grade())\n",
    "\n",
    "        \n",
    "  "
   ]
  },
  {
   "cell_type": "code",
   "execution_count": 16,
   "id": "1faf2ee5-cc4b-4d54-bfe1-d3ac4ddef945",
   "metadata": {},
   "outputs": [
    {
     "name": "stdout",
     "output_type": "stream",
     "text": [
      "Account Holder: Tushar\n",
      "Balance: 5000\n",
      "Deposited 2000. New Balance = 7000\n",
      "Withdrawn 3000. Remaining Balance = 4000\n",
      "Insufficient Balance \n"
     ]
    }
   ],
   "source": [
    "\n",
    "\n",
    "2. # Bank Account Class\n",
    "\n",
    "class BankAccount:\n",
    "    def __init__(self, account_holder, balance=0):\n",
    "        self.account_holder = account_holder\n",
    "        self.balance = balance\n",
    "\n",
    "    def deposit(self, amount):\n",
    "        self.balance += amount\n",
    "        print(f\"Deposited {amount}. New Balance = {self.balance}\")\n",
    "\n",
    "    def withdraw(self, amount):\n",
    "        if amount <= self.balance:\n",
    "            self.balance -= amount\n",
    "            print(f\"Withdrawn {amount}. Remaining Balance = {self.balance}\")\n",
    "        else:\n",
    "            print(\"Insufficient Balance \")\n",
    "\n",
    "    def display_balance(self):\n",
    "        print(f\"Account Holder: {self.account_holder}\")\n",
    "        print(f\"Balance: {self.balance}\")\n",
    "\n",
    "# Example usage\n",
    "account1 = BankAccount(\"Tushar\", 5000)\n",
    "account1.display_balance()\n",
    "account1.deposit(2000)\n",
    "account1.withdraw(3000)\n",
    "account1.withdraw(5000)\n"
   ]
  },
  {
   "cell_type": "code",
   "execution_count": null,
   "id": "98f187ee-2b06-426e-9b71-6d921792254e",
   "metadata": {},
   "outputs": [],
   "source": []
  }
 ],
 "metadata": {
  "kernelspec": {
   "display_name": "Python 3 (ipykernel)",
   "language": "python",
   "name": "python3"
  },
  "language_info": {
   "codemirror_mode": {
    "name": "ipython",
    "version": 3
   },
   "file_extension": ".py",
   "mimetype": "text/x-python",
   "name": "python",
   "nbconvert_exporter": "python",
   "pygments_lexer": "ipython3",
   "version": "3.10.18"
  }
 },
 "nbformat": 4,
 "nbformat_minor": 5
}

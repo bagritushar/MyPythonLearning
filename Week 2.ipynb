{
 "cells": [
  {
   "cell_type": "markdown",
   "id": "5edb1294-a2f5-4b2f-807e-d8735d59e0a3",
   "metadata": {},
   "source": [
    "<font color=\"Blue\" size=\"6\">Python Learning 2nd Week</font> \n"
   ]
  },
  {
   "cell_type": "markdown",
   "id": "781c8ebf-8016-44bf-8530-2e35a241c076",
   "metadata": {},
   "source": [
    "**VARIABLE**"
   ]
  },
  {
   "cell_type": "code",
   "execution_count": 1,
   "id": "8091af44-78df-4fc3-81e0-27a95cfa1a06",
   "metadata": {},
   "outputs": [],
   "source": [
    "x = 3 "
   ]
  },
  {
   "cell_type": "code",
   "execution_count": 2,
   "id": "f9aa6e69-d0de-46bb-ad8f-94833aff4cc4",
   "metadata": {},
   "outputs": [
    {
     "name": "stdout",
     "output_type": "stream",
     "text": [
      "Variable   Type    Data/Info\n",
      "----------------------------\n",
      "x          int     3\n"
     ]
    }
   ],
   "source": [
    "%whos"
   ]
  },
  {
   "cell_type": "code",
   "execution_count": 3,
   "id": "c7996403-5605-4769-80c2-ee1f7eb46159",
   "metadata": {},
   "outputs": [
    {
     "name": "stdout",
     "output_type": "stream",
     "text": [
      "<class 'int'>\n"
     ]
    }
   ],
   "source": [
    "print(type(x))"
   ]
  },
  {
   "cell_type": "code",
   "execution_count": 4,
   "id": "ce4de3ef-f8e1-4c02-b2a1-0e9775df6305",
   "metadata": {},
   "outputs": [],
   "source": [
    "x = 5.7"
   ]
  },
  {
   "cell_type": "code",
   "execution_count": 5,
   "id": "c2942ee7-7200-445f-bf64-6ab61da09e7c",
   "metadata": {},
   "outputs": [
    {
     "name": "stdout",
     "output_type": "stream",
     "text": [
      "Variable   Type     Data/Info\n",
      "-----------------------------\n",
      "x          float    5.7\n"
     ]
    }
   ],
   "source": [
    "%whos"
   ]
  },
  {
   "cell_type": "code",
   "execution_count": 6,
   "id": "315bd05b-f475-467c-9db0-d916c8726c0f",
   "metadata": {},
   "outputs": [
    {
     "name": "stdout",
     "output_type": "stream",
     "text": [
      "<class 'float'>\n"
     ]
    }
   ],
   "source": [
    "print(type(x))"
   ]
  },
  {
   "cell_type": "code",
   "execution_count": 7,
   "id": "1b550c20-8bff-42f3-99b4-c897e7d0b89b",
   "metadata": {},
   "outputs": [],
   "source": [
    "abcd = 556.32"
   ]
  },
  {
   "cell_type": "code",
   "execution_count": 8,
   "id": "32f41816-11d5-4beb-9944-92bb22005f7e",
   "metadata": {},
   "outputs": [
    {
     "name": "stdout",
     "output_type": "stream",
     "text": [
      "Variable   Type     Data/Info\n",
      "-----------------------------\n",
      "abcd       float    556.32\n",
      "x          float    5.7\n"
     ]
    }
   ],
   "source": [
    "%whos"
   ]
  },
  {
   "cell_type": "code",
   "execution_count": 9,
   "id": "5f953a47-787b-4c90-86fd-92fcc0e3eff4",
   "metadata": {},
   "outputs": [],
   "source": [
    "a,b,c,d,f = 3,5,6.0,7.2,-3"
   ]
  },
  {
   "cell_type": "code",
   "execution_count": 10,
   "id": "0bb541ee-76c1-4266-b8d2-c723a4371f87",
   "metadata": {},
   "outputs": [
    {
     "name": "stdout",
     "output_type": "stream",
     "text": [
      "Variable   Type     Data/Info\n",
      "-----------------------------\n",
      "a          int      3\n",
      "abcd       float    556.32\n",
      "b          int      5\n",
      "c          float    6.0\n",
      "d          float    7.2\n",
      "f          int      -3\n",
      "x          float    5.7\n"
     ]
    }
   ],
   "source": [
    "%whos"
   ]
  },
  {
   "cell_type": "code",
   "execution_count": 11,
   "id": "bb1db970-a77d-450a-9c44-1a7273e52b3a",
   "metadata": {},
   "outputs": [],
   "source": [
    "del abcd"
   ]
  },
  {
   "cell_type": "code",
   "execution_count": 12,
   "id": "5a79c38d-10e9-4901-8dd8-3024752a17be",
   "metadata": {},
   "outputs": [
    {
     "name": "stdout",
     "output_type": "stream",
     "text": [
      "Variable   Type     Data/Info\n",
      "-----------------------------\n",
      "a          int      3\n",
      "b          int      5\n",
      "c          float    6.0\n",
      "d          float    7.2\n",
      "f          int      -3\n",
      "x          float    5.7\n"
     ]
    }
   ],
   "source": [
    "%whos"
   ]
  },
  {
   "cell_type": "code",
   "execution_count": 13,
   "id": "54944543-043a-42a4-a046-8c0299893632",
   "metadata": {},
   "outputs": [
    {
     "ename": "NameError",
     "evalue": "name 'abcd' is not defined",
     "output_type": "error",
     "traceback": [
      "\u001b[1;31m---------------------------------------------------------------------------\u001b[0m",
      "\u001b[1;31mNameError\u001b[0m                                 Traceback (most recent call last)",
      "Cell \u001b[1;32mIn[13], line 1\u001b[0m\n\u001b[1;32m----> 1\u001b[0m \u001b[38;5;28mprint\u001b[39m(\u001b[43mabcd\u001b[49m)\n",
      "\u001b[1;31mNameError\u001b[0m: name 'abcd' is not defined"
     ]
    }
   ],
   "source": [
    "print(abcd)"
   ]
  },
  {
   "cell_type": "code",
   "execution_count": 14,
   "id": "8326ca95-72f7-4850-8527-eb4f19ae79c4",
   "metadata": {},
   "outputs": [],
   "source": [
    "c = 2+4j"
   ]
  },
  {
   "cell_type": "code",
   "execution_count": 15,
   "id": "f1006d0d-f8aa-4671-aa21-e6219f1c239e",
   "metadata": {},
   "outputs": [
    {
     "name": "stdout",
     "output_type": "stream",
     "text": [
      "<class 'complex'>\n"
     ]
    }
   ],
   "source": [
    "print(type(c))"
   ]
  },
  {
   "cell_type": "code",
   "execution_count": 16,
   "id": "84e3a8c6-41e1-423d-ad17-762a235c3ac0",
   "metadata": {},
   "outputs": [],
   "source": [
    "s = \"hey how are you\""
   ]
  },
  {
   "cell_type": "code",
   "execution_count": 17,
   "id": "f9ddc94a-e591-46dc-b17b-d54fc1ebfc00",
   "metadata": {},
   "outputs": [
    {
     "name": "stdout",
     "output_type": "stream",
     "text": [
      "hey how are you\n"
     ]
    }
   ],
   "source": [
    "print(s)"
   ]
  },
  {
   "cell_type": "code",
   "execution_count": 18,
   "id": "4e36b649-5275-4e0b-a1ae-f31e4c4bba50",
   "metadata": {},
   "outputs": [
    {
     "name": "stdout",
     "output_type": "stream",
     "text": [
      "<class 'str'>\n"
     ]
    }
   ],
   "source": [
    "print(type(s))"
   ]
  },
  {
   "cell_type": "code",
   "execution_count": 19,
   "id": "135e3283-4d45-44b9-b25e-7a433c5378c9",
   "metadata": {},
   "outputs": [
    {
     "name": "stdout",
     "output_type": "stream",
     "text": [
      "Variable   Type       Data/Info\n",
      "-------------------------------\n",
      "a          int        3\n",
      "b          int        5\n",
      "c          complex    (2+4j)\n",
      "d          float      7.2\n",
      "f          int        -3\n",
      "s          str        hey how are you\n",
      "x          float      5.7\n"
     ]
    }
   ],
   "source": [
    "%whos"
   ]
  },
  {
   "cell_type": "markdown",
   "id": "66187ab1-88bb-4ae3-929d-a2985562a1e3",
   "metadata": {},
   "source": [
    " 1. Functions in Python"
   ]
  },
  {
   "cell_type": "code",
   "execution_count": null,
   "id": "23f9f552-a782-46f2-954d-e59fa0cb6b66",
   "metadata": {},
   "outputs": [],
   "source": [
    "Theory:\n",
    "Function: Reusable block of code\n",
    "\n",
    "Define: def keyword\n",
    "\n",
    "Call: Use function name + ()\n",
    "\n",
    "return to return value"
   ]
  },
  {
   "cell_type": "code",
   "execution_count": 1,
   "id": "632fb287-6b5c-4876-a902-8992f732e5ca",
   "metadata": {},
   "outputs": [
    {
     "name": "stdout",
     "output_type": "stream",
     "text": [
      "Hello, Python!\n",
      "8\n",
      "Welcome, Tushar\n"
     ]
    }
   ],
   "source": [
    "def greet():\n",
    "    print(\"Hello, Python!\")\n",
    "\n",
    "greet()\n",
    "\n",
    "def add(a, b):\n",
    "    return a + b\n",
    "\n",
    "print(add(3, 5))\n",
    "\n",
    "def greet_user(name=\"User\"):\n",
    "    print(f\"Welcome, {name}\")\n",
    "greet_user(\"Tushar\")\n"
   ]
  },
  {
   "cell_type": "code",
   "execution_count": 2,
   "id": "8830c52a-c239-4b07-adc4-3c80d6263acf",
   "metadata": {},
   "outputs": [
    {
     "name": "stdout",
     "output_type": "stream",
     "text": [
      "15\n"
     ]
    }
   ],
   "source": [
    "# Calculator using functions\n",
    "def calculator(a, b, op):\n",
    "    if op == \"add\":\n",
    "        return a + b\n",
    "    elif op == \"sub\":\n",
    "        return a - b\n",
    "    elif op == \"mul\":\n",
    "        return a * b\n",
    "    elif op == \"div\":\n",
    "        return a / b\n",
    "    else:\n",
    "        return \"Invalid\"\n",
    "\n",
    "print(calculator(10, 5, \"add\"))\n"
   ]
  },
  {
   "cell_type": "markdown",
   "id": "77a4f7be-0c38-43d5-b444-ce0a94cfb61d",
   "metadata": {},
   "source": [
    " 2. Lists, Tuples, Dictionaries"
   ]
  },
  {
   "cell_type": "code",
   "execution_count": null,
   "id": "42c785ef-3a50-4628-84e7-b254f594ff68",
   "metadata": {},
   "outputs": [],
   "source": [
    "List: Mutable ([])\n",
    "\n",
    "Tuple: Immutable (())\n",
    "\n",
    "Dict: Key-value pairs ({})"
   ]
  },
  {
   "cell_type": "code",
   "execution_count": 3,
   "id": "a1f0b105-ca96-47c6-a186-87816b709b37",
   "metadata": {},
   "outputs": [
    {
     "name": "stdout",
     "output_type": "stream",
     "text": [
      "Tushar\n"
     ]
    }
   ],
   "source": [
    "my_list = [1, 2, 3]\n",
    "my_list.append(4)\n",
    "\n",
    "my_tuple = (1, 2, 3)\n",
    "\n",
    "my_dict = {\"name\": \"Tushar\", \"age\": 21}\n",
    "print(my_dict[\"name\"])\n"
   ]
  },
  {
   "cell_type": "code",
   "execution_count": 4,
   "id": "632d8f46-db6b-43b6-9e49-f74174fdf1eb",
   "metadata": {},
   "outputs": [
    {
     "name": "stdout",
     "output_type": "stream",
     "text": [
      "Amit 90\n",
      "Riya 80\n"
     ]
    }
   ],
   "source": [
    "students = [\n",
    "    {\"name\": \"Amit\", \"marks\": 90},\n",
    "    {\"name\": \"Riya\", \"marks\": 80},\n",
    "]\n",
    "for student in students:\n",
    "    print(student[\"name\"], student[\"marks\"])\n"
   ]
  },
  {
   "cell_type": "markdown",
   "id": "190d493d-3955-4a68-9216-f169a06c36e6",
   "metadata": {},
   "source": [
    "3. Strings + Slicing"
   ]
  },
  {
   "cell_type": "code",
   "execution_count": null,
   "id": "a5da661f-dc68-4f67-989c-a2b9c17fb5ab",
   "metadata": {},
   "outputs": [],
   "source": [
    "Strings are immutable\n",
    "\n",
    "len(), upper(), lower(), replace()\n",
    "\n",
    "Slicing: string[start:end]"
   ]
  },
  {
   "cell_type": "markdown",
   "id": "64a4d381-f170-4c81-be1a-909602339b1e",
   "metadata": {},
   "source": [
    "s = \"Tushar\"\n",
    "print(s.upper())\n",
    "print(s[0:3])   # 'Tus'\n",
    "print(s[-1])    # Last character\n"
   ]
  },
  {
   "cell_type": "code",
   "execution_count": 6,
   "id": "c6808f1a-481e-4a16-9f18-e998947b34b2",
   "metadata": {},
   "outputs": [
    {
     "name": "stdout",
     "output_type": "stream",
     "text": [
      "Palindrome\n"
     ]
    }
   ],
   "source": [
    "# Check if string is palindrome\n",
    "word = \"madam\"\n",
    "if word == word[::-1]:\n",
    "    print(\"Palindrome\")\n",
    "else:\n",
    "    print(\"Not Palindrome\")\n"
   ]
  },
  {
   "cell_type": "markdown",
   "id": "290fcdb1-ce7a-407b-a6a8-7e6bc6a1246a",
   "metadata": {},
   "source": [
    " 4. Exception Handling"
   ]
  },
  {
   "cell_type": "code",
   "execution_count": null,
   "id": "b00e48e0-c7a4-40cb-82e4-6aa97c5303ff",
   "metadata": {},
   "outputs": [],
   "source": [
    "Handle errors with try, except\n",
    "\n",
    "Avoid program crash"
   ]
  },
  {
   "cell_type": "code",
   "execution_count": 8,
   "id": "13959248-4f0a-4fe1-9200-dce50c00a126",
   "metadata": {},
   "outputs": [
    {
     "name": "stdin",
     "output_type": "stream",
     "text": [
      "Enter number:  5\n"
     ]
    },
    {
     "name": "stdout",
     "output_type": "stream",
     "text": [
      "2.0\n"
     ]
    }
   ],
   "source": [
    "try:\n",
    "    num = int(input(\"Enter number: \"))\n",
    "    print(10 / num)\n",
    "except ZeroDivisionError:\n",
    "    print(\"Cannot divide by zero\")\n",
    "except ValueError:\n",
    "    print(\"Invalid input\")\n"
   ]
  },
  {
   "cell_type": "code",
   "execution_count": 9,
   "id": "eb399e0e-c62b-4209-8aad-9309233d6e9f",
   "metadata": {},
   "outputs": [
    {
     "name": "stdin",
     "output_type": "stream",
     "text": [
      "Enter marks:  75\n"
     ]
    },
    {
     "name": "stdout",
     "output_type": "stream",
     "text": [
      "Valid marks: 75\n"
     ]
    }
   ],
   "source": [
    "# Handle invalid marks entry\n",
    "try:\n",
    "    marks = int(input(\"Enter marks: \"))\n",
    "    if marks < 0 or marks > 100:\n",
    "        raise ValueError(\"Invalid marks\")\n",
    "    print(\"Valid marks:\", marks)\n",
    "except Exception as e:\n",
    "    print(e)\n"
   ]
  },
  {
   "cell_type": "markdown",
   "id": "629cc4ae-058a-461c-b779-68adfb57b93c",
   "metadata": {},
   "source": [
    "5. File Handling"
   ]
  },
  {
   "cell_type": "code",
   "execution_count": null,
   "id": "d5e98498-51d4-4066-ad54-1453e5ec6b39",
   "metadata": {},
   "outputs": [],
   "source": [
    "Open file: open()\n",
    "\n",
    "Read: read(), readlines()\n",
    "\n",
    "Write: write(), writelines()"
   ]
  },
  {
   "cell_type": "code",
   "execution_count": 10,
   "id": "a608ffb4-3f6c-4cd3-9c4e-e51f524585dc",
   "metadata": {},
   "outputs": [
    {
     "name": "stdout",
     "output_type": "stream",
     "text": [
      "Hello World\n"
     ]
    }
   ],
   "source": [
    "# Write to file\n",
    "with open(\"data.txt\", \"w\") as f:\n",
    "    f.write(\"Hello World\")\n",
    "\n",
    "# Read from file\n",
    "with open(\"data.txt\", \"r\") as f:\n",
    "    content = f.read()\n",
    "    print(content)\n"
   ]
  },
  {
   "cell_type": "code",
   "execution_count": 11,
   "id": "b38d235d-21a1-4ad5-a041-91f8de205d65",
   "metadata": {},
   "outputs": [
    {
     "name": "stdout",
     "output_type": "stream",
     "text": [
      "Total words: 2\n"
     ]
    }
   ],
   "source": [
    "# Count words in file\n",
    "with open(\"data.txt\", \"r\") as f:\n",
    "    text = f.read()\n",
    "    print(\"Total words:\", len(text.split()))\n"
   ]
  },
  {
   "cell_type": "markdown",
   "id": "adf699e7-32af-490a-9fae-472d8dba57f6",
   "metadata": {},
   "source": [
    "6. Modules and Packages"
   ]
  },
  {
   "cell_type": "code",
   "execution_count": null,
   "id": "ea509883-306d-4af8-99d0-30b4b00e042b",
   "metadata": {},
   "outputs": [],
   "source": [
    "Module: Python file with functions/classes\n",
    "\n",
    "Import built-in: import math\n",
    "\n",
    "Import custom: import my_module"
   ]
  },
  {
   "cell_type": "code",
   "execution_count": 12,
   "id": "768df930-e764-46b5-9017-5baa223ed9af",
   "metadata": {},
   "outputs": [
    {
     "name": "stdout",
     "output_type": "stream",
     "text": [
      "5.0\n",
      "5\n"
     ]
    }
   ],
   "source": [
    "import math\n",
    "print(math.sqrt(25))\n",
    "\n",
    "import random\n",
    "print(random.randint(1, 10))\n"
   ]
  },
  {
   "cell_type": "code",
   "execution_count": 13,
   "id": "1c94d03c-f7bd-4a08-b2de-ee236fccb043",
   "metadata": {},
   "outputs": [
    {
     "name": "stdout",
     "output_type": "stream",
     "text": [
      "2\n"
     ]
    }
   ],
   "source": [
    "# Random even number\n",
    "import random\n",
    "print(random.choice([2, 4, 6, 8, 10]))\n"
   ]
  },
  {
   "cell_type": "markdown",
   "id": "3096d9b0-ac12-46e2-8aaf-4e5843719409",
   "metadata": {},
   "source": [
    " 7. DateTime + List Comprehension"
   ]
  },
  {
   "cell_type": "code",
   "execution_count": null,
   "id": "dcc265fb-8c39-4b8b-8c7d-10fe2dbf3fc2",
   "metadata": {},
   "outputs": [],
   "source": [
    "Module: datetime\n",
    "\n",
    "Now: datetime.now()\n",
    "\n",
    "Format: strftime()\n",
    "\n",
    "List comprehension: shortcut for loop"
   ]
  },
  {
   "cell_type": "code",
   "execution_count": 14,
   "id": "58543466-09e6-4b8a-9ab9-da6f93f82a80",
   "metadata": {},
   "outputs": [
    {
     "name": "stdout",
     "output_type": "stream",
     "text": [
      "24-07-2025 13:50:38\n",
      "[1, 4, 9, 16, 25]\n"
     ]
    }
   ],
   "source": [
    "from datetime import datetime\n",
    "now = datetime.now()\n",
    "print(now.strftime(\"%d-%m-%Y %H:%M:%S\"))\n",
    "\n",
    "# List comprehension\n",
    "squares = [x*x for x in range(1, 6)]\n",
    "print(squares)\n"
   ]
  },
  {
   "cell_type": "code",
   "execution_count": 15,
   "id": "7b12b109-2d05-4d2b-8da8-fe976cd2fbc7",
   "metadata": {},
   "outputs": [
    {
     "name": "stdout",
     "output_type": "stream",
     "text": [
      "[2, 4, 6]\n"
     ]
    }
   ],
   "source": [
    "# Filter even numbers\n",
    "nums = [1, 2, 3, 4, 5, 6]\n",
    "evens = [n for n in nums if n % 2 == 0]\n",
    "print(evens)\n"
   ]
  },
  {
   "cell_type": "markdown",
   "id": "b20e0b38-2e08-447e-b02a-46b56a5ff5ab",
   "metadata": {},
   "source": [
    "8. Practice Problems"
   ]
  },
  {
   "cell_type": "code",
   "execution_count": 16,
   "id": "22811f2b-c08f-4c21-a090-12251302d4e6",
   "metadata": {},
   "outputs": [
    {
     "name": "stdout",
     "output_type": "stream",
     "text": [
      "nohtyP\n",
      "120\n",
      "2 x 1 = 2\n",
      "2 x 2 = 4\n",
      "2 x 3 = 6\n",
      "2 x 4 = 8\n",
      "2 x 5 = 10\n",
      "2 x 6 = 12\n",
      "2 x 7 = 14\n",
      "2 x 8 = 16\n",
      "2 x 9 = 18\n",
      "2 x 10 = 20\n",
      "----------\n",
      "3 x 1 = 3\n",
      "3 x 2 = 6\n",
      "3 x 3 = 9\n",
      "3 x 4 = 12\n",
      "3 x 5 = 15\n",
      "3 x 6 = 18\n",
      "3 x 7 = 21\n",
      "3 x 8 = 24\n",
      "3 x 9 = 27\n",
      "3 x 10 = 30\n",
      "----------\n",
      "4 x 1 = 4\n",
      "4 x 2 = 8\n",
      "4 x 3 = 12\n",
      "4 x 4 = 16\n",
      "4 x 5 = 20\n",
      "4 x 6 = 24\n",
      "4 x 7 = 28\n",
      "4 x 8 = 32\n",
      "4 x 9 = 36\n",
      "4 x 10 = 40\n",
      "----------\n",
      "5 x 1 = 5\n",
      "5 x 2 = 10\n",
      "5 x 3 = 15\n",
      "5 x 4 = 20\n",
      "5 x 5 = 25\n",
      "5 x 6 = 30\n",
      "5 x 7 = 35\n",
      "5 x 8 = 40\n",
      "5 x 9 = 45\n",
      "5 x 10 = 50\n",
      "----------\n",
      "6 x 1 = 6\n",
      "6 x 2 = 12\n",
      "6 x 3 = 18\n",
      "6 x 4 = 24\n",
      "6 x 5 = 30\n",
      "6 x 6 = 36\n",
      "6 x 7 = 42\n",
      "6 x 8 = 48\n",
      "6 x 9 = 54\n",
      "6 x 10 = 60\n",
      "----------\n",
      "7 x 1 = 7\n",
      "7 x 2 = 14\n",
      "7 x 3 = 21\n",
      "7 x 4 = 28\n",
      "7 x 5 = 35\n",
      "7 x 6 = 42\n",
      "7 x 7 = 49\n",
      "7 x 8 = 56\n",
      "7 x 9 = 63\n",
      "7 x 10 = 70\n",
      "----------\n",
      "8 x 1 = 8\n",
      "8 x 2 = 16\n",
      "8 x 3 = 24\n",
      "8 x 4 = 32\n",
      "8 x 5 = 40\n",
      "8 x 6 = 48\n",
      "8 x 7 = 56\n",
      "8 x 8 = 64\n",
      "8 x 9 = 72\n",
      "8 x 10 = 80\n",
      "----------\n",
      "9 x 1 = 9\n",
      "9 x 2 = 18\n",
      "9 x 3 = 27\n",
      "9 x 4 = 36\n",
      "9 x 5 = 45\n",
      "9 x 6 = 54\n",
      "9 x 7 = 63\n",
      "9 x 8 = 72\n",
      "9 x 9 = 81\n",
      "9 x 10 = 90\n",
      "----------\n",
      "10 x 1 = 10\n",
      "10 x 2 = 20\n",
      "10 x 3 = 30\n",
      "10 x 4 = 40\n",
      "10 x 5 = 50\n",
      "10 x 6 = 60\n",
      "10 x 7 = 70\n",
      "10 x 8 = 80\n",
      "10 x 9 = 90\n",
      "10 x 10 = 100\n",
      "----------\n"
     ]
    }
   ],
   "source": [
    "# Reverse string\n",
    "print(\"Python\"[::-1])\n",
    "\n",
    "# Factorial\n",
    "def fact(n):\n",
    "    result = 1\n",
    "    for i in range(1, n+1):\n",
    "        result *= i\n",
    "    return result\n",
    "\n",
    "print(fact(5))\n",
    "\n",
    "# Tables 2 to 10\n",
    "for i in range(2, 11):\n",
    "    for j in range(1, 11):\n",
    "        print(f\"{i} x {j} = {i*j}\")\n",
    "    print(\"-\" * 10)\n"
   ]
  },
  {
   "cell_type": "code",
   "execution_count": null,
   "id": "89c0688b-a99f-4a0f-a853-6efbffbe149e",
   "metadata": {},
   "outputs": [],
   "source": []
  }
 ],
 "metadata": {
  "kernelspec": {
   "display_name": "Python 3 (ipykernel)",
   "language": "python",
   "name": "python3"
  },
  "language_info": {
   "codemirror_mode": {
    "name": "ipython",
    "version": 3
   },
   "file_extension": ".py",
   "mimetype": "text/x-python",
   "name": "python",
   "nbconvert_exporter": "python",
   "pygments_lexer": "ipython3",
   "version": "3.10.18"
  }
 },
 "nbformat": 4,
 "nbformat_minor": 5
}

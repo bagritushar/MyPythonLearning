{
 "cells": [
  {
   "cell_type": "markdown",
   "id": "cd4aa53f-5fdc-471a-851d-ed646e9a4d50",
   "metadata": {},
   "source": [
    "<font color=\"Blue\" size=\"6\">Python Learning 4th Week</font>"
   ]
  },
  {
   "cell_type": "markdown",
   "id": "f3d3f8d8-ca5e-4ab1-80ff-7878ac157c5d",
   "metadata": {},
   "source": [
    "Week 4 – Python with NumPy & Pandas"
   ]
  },
  {
   "cell_type": "markdown",
   "id": "96e07c1a-dd4a-4162-be64-89fec388a64f",
   "metadata": {},
   "source": [
    "Concepts Covered\n",
    "1. Introduction to NumPy\n",
    "\n",
    "NumPy ek Python library hai jo arrays (multi-dimensional data) ke saath fast mathematical operations ke liye use hoti hai.\n",
    "\n",
    "Normal Python list me operations slow hote hai.\n",
    "\n",
    "NumPy arrays memory efficient aur fast hote hai."
   ]
  },
  {
   "cell_type": "code",
   "execution_count": 2,
   "id": "4c37ee99-c0f0-4134-bb89-bb4f50a8c836",
   "metadata": {},
   "outputs": [
    {
     "name": "stdout",
     "output_type": "stream",
     "text": [
      "Python List: [1, 2, 3, 4, 5]\n",
      "NumPy Array: [1 2 3 4 5]\n"
     ]
    }
   ],
   "source": [
    "import numpy as np\n",
    "\n",
    "# Normal Python list\n",
    "py_list = [1, 2, 3, 4, 5]\n",
    "print(\"Python List:\", py_list)\n",
    "\n",
    "# NumPy array\n",
    "np_array = np.array([1, 2, 3, 4, 5])\n",
    "print(\"NumPy Array:\", np_array)\n"
   ]
  },
  {
   "cell_type": "code",
   "execution_count": null,
   "id": "b8cf2410-711d-4bef-9fb6-107c1d215c46",
   "metadata": {},
   "outputs": [],
   "source": []
  },
  {
   "cell_type": "markdown",
   "id": "6d8a7d31-b120-490c-bec0-8ff69000fb6c",
   "metadata": {},
   "source": [
    "Creating Arrays, Indexing & Slicing"
   ]
  },
  {
   "cell_type": "code",
   "execution_count": 3,
   "id": "f72047e7-f072-469c-b786-9cff8598ccda",
   "metadata": {},
   "outputs": [
    {
     "name": "stdout",
     "output_type": "stream",
     "text": [
      "First element: 10\n",
      "Last element: 50\n",
      "Slice: [20 30 40]\n",
      "Element at row 1 col 2: 2\n"
     ]
    }
   ],
   "source": [
    "import numpy as np\n",
    "\n",
    "# 1D array\n",
    "arr1 = np.array([10, 20, 30, 40, 50])\n",
    "\n",
    "# 2D array\n",
    "arr2 = np.array([[1, 2, 3], [4, 5, 6]])\n",
    "\n",
    "# Indexing\n",
    "print(\"First element:\", arr1[0])   # 10\n",
    "print(\"Last element:\", arr1[-1])  # 50\n",
    "\n",
    "# Slicing\n",
    "print(\"Slice:\", arr1[1:4])        # [20 30 40]\n",
    "\n",
    "# 2D array indexing\n",
    "print(\"Element at row 1 col 2:\", arr2[0, 1])  # 2\n"
   ]
  },
  {
   "cell_type": "code",
   "execution_count": null,
   "id": "3db467d2-5cce-45d3-9c6e-519e64fea51d",
   "metadata": {},
   "outputs": [],
   "source": []
  },
  {
   "cell_type": "markdown",
   "id": "baa3e5f6-e62a-495f-a55a-46ccf6ed08f7",
   "metadata": {},
   "source": [
    "Introduction to Pandas\n",
    "\n",
    "Pandas ek Python library hai jo tabular data (Excel/CSV jaise) ke liye use hoti hai.\n",
    "Main structures:\n",
    "\n",
    "Series → 1D labeled array\n",
    "\n",
    "DataFrame → 2D table"
   ]
  },
  {
   "cell_type": "code",
   "execution_count": 8,
   "id": "653eb8e3-fac1-4286-9081-c89cebd9ca6d",
   "metadata": {},
   "outputs": [
    {
     "name": "stdout",
     "output_type": "stream",
     "text": [
      "data.csv file created successfully!\n"
     ]
    }
   ],
   "source": [
    "import pandas as pd\n",
    "\n",
    "# Create dummy data\n",
    "data = {\n",
    "    \"Name\": [\"Tushar\", \"Aman\", \"Riya\"],\n",
    "    \"Age\": [23, 25, 22],\n",
    "    \"City\": [\"Rohtak\", \"Delhi\", \"Mumbai\"]\n",
    "}\n",
    "\n",
    "# Convert to DataFrame\n",
    "df = pd.DataFrame(data)\n",
    "\n",
    "# Save as CSV\n",
    "df.to_csv(\"data.csv\", index=False)\n",
    "\n",
    "print(\"data.csv file created successfully!\")\n"
   ]
  },
  {
   "cell_type": "code",
   "execution_count": null,
   "id": "bcc10a38-fe13-4730-bd8c-09ca24b5faa8",
   "metadata": {},
   "outputs": [],
   "source": []
  },
  {
   "cell_type": "markdown",
   "id": "fbe5cdb9-428d-48c2-b858-b8fed6ab7a8f",
   "metadata": {},
   "source": [
    "Data Import/Export (CSV, Excel)"
   ]
  },
  {
   "cell_type": "code",
   "execution_count": 9,
   "id": "fb0fab06-ce45-4b53-af86-cc4fecd95a5a",
   "metadata": {},
   "outputs": [],
   "source": [
    "# Load CSV\n",
    "df = pd.read_csv(\"data.csv\")\n",
    "\n",
    "# Export to CSV\n",
    "df.to_csv(\"output.csv\", index=False)\n",
    "\n",
    "# Load Excel (if openpyxl installed)\n",
    "# df = pd.read_excel(\"data.xlsx\")\n"
   ]
  },
  {
   "cell_type": "code",
   "execution_count": 10,
   "id": "2d7baf09-b578-4a0f-88b5-391b016531ae",
   "metadata": {},
   "outputs": [],
   "source": [
    "# Load CSV\n",
    "df = pd.read_csv(\"data.csv\")\n",
    "\n",
    "# Export to CSV\n",
    "df.to_csv(\"output.csv\", index=False)\n",
    "\n",
    "# Load Excel (if openpyxl installed)\n",
    "# df = pd.read_excel(\"data.xlsx\")\n"
   ]
  },
  {
   "cell_type": "markdown",
   "id": "532bff09-a40e-4bfe-9a78-063e5fc8605b",
   "metadata": {},
   "source": [
    "Basic Data Cleaning (dropna, fillna)"
   ]
  },
  {
   "cell_type": "code",
   "execution_count": 11,
   "id": "42ed7547-4489-49ff-9f39-4dd2466c0488",
   "metadata": {},
   "outputs": [
    {
     "name": "stdout",
     "output_type": "stream",
     "text": [
      "Original:\n",
      "     Name   Age    City\n",
      "0   Amit  25.0   Delhi\n",
      "1  Rohit   NaN  Mumbai\n",
      "2  Sneha  22.0    None\n",
      "3  Priya   NaN    Pune\n",
      "After dropna:\n",
      "    Name   Age   City\n",
      "0  Amit  25.0  Delhi\n",
      "After fillna:\n",
      "     Name   Age     City\n",
      "0   Amit  25.0    Delhi\n",
      "1  Rohit   0.0   Mumbai\n",
      "2  Sneha  22.0  Unknown\n",
      "3  Priya   0.0     Pune\n"
     ]
    }
   ],
   "source": [
    "data = {\n",
    "    \"Name\": [\"Amit\", \"Rohit\", \"Sneha\", \"Priya\"],\n",
    "    \"Age\": [25, None, 22, None],\n",
    "    \"City\": [\"Delhi\", \"Mumbai\", None, \"Pune\"]\n",
    "}\n",
    "df = pd.DataFrame(data)\n",
    "\n",
    "print(\"Original:\\n\", df)\n",
    "\n",
    "# Drop rows with NaN\n",
    "print(\"After dropna:\\n\", df.dropna())\n",
    "\n",
    "# Fill missing values\n",
    "print(\"After fillna:\\n\", df.fillna({\"Age\": 0, \"City\": \"Unknown\"}))\n"
   ]
  },
  {
   "cell_type": "markdown",
   "id": "c2d3ef8d-14b3-42da-a005-8ac17607c1ed",
   "metadata": {},
   "source": []
  },
  {
   "cell_type": "markdown",
   "id": "a0a06960-9793-4b58-a68e-932156746616",
   "metadata": {},
   "source": [
    "Filtering & Sorting Data"
   ]
  },
  {
   "cell_type": "code",
   "execution_count": 12,
   "id": "0176e2f8-ed38-4db1-9b75-15890a7aa09d",
   "metadata": {},
   "outputs": [
    {
     "name": "stdout",
     "output_type": "stream",
     "text": [
      "Age > 23:\n",
      "    Name   Age   City\n",
      "0  Amit  25.0  Delhi\n",
      "Sorted by Age:\n",
      "     Name   Age    City\n",
      "2  Sneha  22.0    None\n",
      "0   Amit  25.0   Delhi\n",
      "1  Rohit   NaN  Mumbai\n",
      "3  Priya   NaN    Pune\n"
     ]
    }
   ],
   "source": [
    "# Filtering\n",
    "print(\"Age > 23:\\n\", df[df[\"Age\"] > 23])\n",
    "\n",
    "# Sorting\n",
    "print(\"Sorted by Age:\\n\", df.sort_values(\"Age\", ascending=True))\n"
   ]
  },
  {
   "cell_type": "code",
   "execution_count": null,
   "id": "a195c55d-9b85-41b6-a509-0d5dd2311b7f",
   "metadata": {},
   "outputs": [],
   "source": []
  },
  {
   "cell_type": "markdown",
   "id": "aacfea5d-937f-429b-be08-2962ccc7d610",
   "metadata": {},
   "source": [
    "Practice Programs\n",
    "1. Create a NumPy array and perform basic operations"
   ]
  },
  {
   "cell_type": "code",
   "execution_count": 13,
   "id": "9eddd361-7912-4e09-85ec-26303491cb11",
   "metadata": {},
   "outputs": [
    {
     "name": "stdout",
     "output_type": "stream",
     "text": [
      "Array: [ 5 10 15 20 25]\n",
      "Sum: 75\n",
      "Product: 375000\n"
     ]
    }
   ],
   "source": [
    "arr = np.array([5, 10, 15, 20, 25])\n",
    "print(\"Array:\", arr)\n",
    "print(\"Sum:\", np.sum(arr))\n",
    "print(\"Product:\", np.prod(arr))\n"
   ]
  },
  {
   "cell_type": "code",
   "execution_count": null,
   "id": "312d3755-d535-4b3f-bdb7-bd4e0dbb3950",
   "metadata": {},
   "outputs": [],
   "source": []
  },
  {
   "cell_type": "markdown",
   "id": "8aa08ddb-c708-4bcd-8901-18a092985b10",
   "metadata": {},
   "source": [
    "2. Find mean, max, min, and reshape arrays"
   ]
  },
  {
   "cell_type": "code",
   "execution_count": 14,
   "id": "8f1b1373-f8f5-42e9-9916-96b4a7e5e6d8",
   "metadata": {},
   "outputs": [
    {
     "name": "stdout",
     "output_type": "stream",
     "text": [
      "Array: [ 1  2  3  4  5  6  7  8  9 10 11 12]\n",
      "Mean: 6.5\n",
      "Max: 12\n",
      "Min: 1\n",
      "Reshaped 3x4:\n",
      " [[ 1  2  3  4]\n",
      " [ 5  6  7  8]\n",
      " [ 9 10 11 12]]\n"
     ]
    }
   ],
   "source": [
    "arr = np.arange(1, 13)  # 1 to 12\n",
    "print(\"Array:\", arr)\n",
    "\n",
    "print(\"Mean:\", np.mean(arr))\n",
    "print(\"Max:\", np.max(arr))\n",
    "print(\"Min:\", np.min(arr))\n",
    "\n",
    "reshaped = arr.reshape(3, 4)\n",
    "print(\"Reshaped 3x4:\\n\", reshaped)\n"
   ]
  },
  {
   "cell_type": "code",
   "execution_count": null,
   "id": "5deba398-d846-489a-88c9-29f58f62d5bd",
   "metadata": {},
   "outputs": [],
   "source": []
  },
  {
   "cell_type": "markdown",
   "id": "ddbc28e8-5d63-4aba-9d07-77436ceb8485",
   "metadata": {},
   "source": [
    "3. Load a CSV file into Pandas DataFrame"
   ]
  },
  {
   "cell_type": "code",
   "execution_count": 16,
   "id": "e512fc16-97d0-4345-bad8-e76f1c165531",
   "metadata": {},
   "outputs": [
    {
     "name": "stdout",
     "output_type": "stream",
     "text": [
      "sample.csv created successfully!\n"
     ]
    }
   ],
   "source": [
    "import pandas as pd\n",
    "\n",
    "# Data create\n",
    "data = {\n",
    "    \"Name\": [\"Tushar\", \"Aman\", \"Riya\"],\n",
    "    \"Age\": [23, 25, 22],\n",
    "    \"City\": [\"Rohtak\", \"Delhi\", \"Mumbai\"]\n",
    "}\n",
    "\n",
    "# DataFrame bana ke CSV save karo\n",
    "df = pd.DataFrame(data)\n",
    "df.to_csv(\"sample.csv\", index=False)\n",
    "\n",
    "print(\"sample.csv created successfully!\")\n"
   ]
  },
  {
   "cell_type": "code",
   "execution_count": 17,
   "id": "1a3339bf-f26e-4e70-a2a8-e2469b23bb4e",
   "metadata": {},
   "outputs": [
    {
     "name": "stdout",
     "output_type": "stream",
     "text": [
      "     Name  Age    City\n",
      "0  Tushar   23  Rohtak\n",
      "1    Aman   25   Delhi\n",
      "2    Riya   22  Mumbai\n"
     ]
    }
   ],
   "source": [
    "df = pd.read_csv(\"sample.csv\")\n",
    "print(df)\n"
   ]
  },
  {
   "cell_type": "code",
   "execution_count": null,
   "id": "109615ec-9f5b-4aa1-90b9-6f5d5ea21a25",
   "metadata": {},
   "outputs": [],
   "source": []
  },
  {
   "cell_type": "markdown",
   "id": "f624c543-6f20-498c-9908-d49656555d3b",
   "metadata": {},
   "source": [
    "4. Perform filtering and sorting on dataset"
   ]
  },
  {
   "cell_type": "code",
   "execution_count": 20,
   "id": "ef1c9ad0-fa19-4870-96c0-03a989735132",
   "metadata": {},
   "outputs": [
    {
     "name": "stdout",
     "output_type": "stream",
     "text": [
      "Filter Age > 25:\n",
      "     Name  Age    City\n",
      "1  Rohit   30  Mumbai\n",
      "3  Priya   28   Delhi\n",
      "Sorted by Name:\n",
      "     Name  Age    City\n",
      "0   Amit   25   Delhi\n",
      "3  Priya   28   Delhi\n",
      "1  Rohit   30  Mumbai\n",
      "2  Sneha   22    Pune\n"
     ]
    }
   ],
   "source": [
    "data = {\n",
    "    \"Name\": [\"Amit\", \"Rohit\", \"Sneha\", \"Priya\"],\n",
    "    \"Age\": [25, 30, 22, 28],\n",
    "    \"City\": [\"Delhi\", \"Mumbai\", \"Pune\", \"Delhi\"]\n",
    "}\n",
    "df = pd.DataFrame(data)\n",
    "\n",
    "print(\"Filter Age > 25:\\n\", df[df[\"Age\"] > 25])\n",
    "print(\"Sorted by Name:\\n\", df.sort_values(\"Name\"))\n"
   ]
  },
  {
   "cell_type": "code",
   "execution_count": null,
   "id": "1c3be7f8-1ab2-4e0d-926f-e4284e75fc49",
   "metadata": {},
   "outputs": [],
   "source": []
  },
  {
   "cell_type": "markdown",
   "id": "3e6be709-7982-48d3-b4b8-f8289c553a5c",
   "metadata": {},
   "source": [
    "5. Handle missing values in DataFrame"
   ]
  },
  {
   "cell_type": "code",
   "execution_count": 21,
   "id": "c2557926-e388-4ca4-a4a9-0cb3887b1ae3",
   "metadata": {},
   "outputs": [
    {
     "name": "stdout",
     "output_type": "stream",
     "text": [
      "Original:\n",
      "     Name   Age    City\n",
      "0   Amit  25.0   Delhi\n",
      "1  Rohit   NaN  Mumbai\n",
      "2  Sneha  22.0    None\n",
      "3  Priya   NaN    Pune\n",
      "Cleaned:\n",
      "     Name   Age     City\n",
      "0   Amit  25.0    Delhi\n",
      "1  Rohit  23.5   Mumbai\n",
      "2  Sneha  22.0  Unknown\n",
      "3  Priya  23.5     Pune\n"
     ]
    }
   ],
   "source": [
    "data = {\n",
    "    \"Name\": [\"Amit\", \"Rohit\", \"Sneha\", \"Priya\"],\n",
    "    \"Age\": [25, None, 22, None],\n",
    "    \"City\": [\"Delhi\", \"Mumbai\", None, \"Pune\"]\n",
    "}\n",
    "df = pd.DataFrame(data)\n",
    "\n",
    "print(\"Original:\\n\", df)\n",
    "\n",
    "# Fill missing values\n",
    "df_clean = df.fillna({\"Age\": df[\"Age\"].mean(), \"City\": \"Unknown\"})\n",
    "print(\"Cleaned:\\n\", df_clean)\n"
   ]
  },
  {
   "cell_type": "code",
   "execution_count": null,
   "id": "f408b4f8-3106-4d60-a631-eb477232b411",
   "metadata": {},
   "outputs": [],
   "source": []
  }
 ],
 "metadata": {
  "kernelspec": {
   "display_name": "Python [conda env:myenv]",
   "language": "python",
   "name": "conda-env-myenv-py"
  },
  "language_info": {
   "codemirror_mode": {
    "name": "ipython",
    "version": 3
   },
   "file_extension": ".py",
   "mimetype": "text/x-python",
   "name": "python",
   "nbconvert_exporter": "python",
   "pygments_lexer": "ipython3",
   "version": "3.10.18"
  }
 },
 "nbformat": 4,
 "nbformat_minor": 5
}
